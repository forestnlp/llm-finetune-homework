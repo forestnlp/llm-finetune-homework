{
 "cells": [
  {
   "cell_type": "markdown",
   "id": "c219841f-493c-40f9-a6c9-3700f0c525d0",
   "metadata": {},
   "source": [
    "# PEFT 库 LoRA 实战 - OpenAI Whisper-large-v2\n",
    "\n",
    "本教程使用 LoRA 在`OpenAI Whisper-large-v2`模型上实现`语音识别(ASR)`任务的微调训练。\n",
    "\n",
    "同时，我们还结合了`int8` 量化进一步降低训练过程资源开销，同时保证了精度几乎不受影响。\n",
    "\n",
    "![LoRA](https://huggingface.co/datasets/huggingface/documentation-images/resolve/main/peft/lora_diagram.png)\n",
    "\n",
    "本教程主要训练流程如下：\n",
    "- 全局参数设置\n",
    "- 数据准备\n",
    "    - 下载数据集：训练、验证和评估集\n",
    "    - 预处理数据：降采样、移除不必要字段等\n",
    "    - 数据抽样（演示需要）\n",
    "    - 应用数据集处理（`Dataset.map`）\n",
    "    - 自定义语音数据处理器\n",
    "- 模型准备\n",
    "    - 加载和处理 `int8` 精度 Whisper-Large-v2 模型\n",
    "    - LoRA Adapter 参数配置\n",
    "    - 实例化 PEFT Model：`peft_model = get_peft_model(model, config)`\n",
    "- 模型训练\n",
    "    - 训练参数配置 Seq2SeqTrainingArguments\n",
    "    - 实例化训练器 Seq2SeqTrainer\n",
    "    - 训练模型\n",
    "    - 保存模型\n",
    "- 模型推理\n",
    "    - 使用 `PeftModel` 加载 LoRA 微调后 Whisper 模型\n",
    "    - 使用 `Pipeline API` 部署微调后 Whisper 实现中文语音识别任务"
   ]
  },
  {
   "cell_type": "markdown",
   "id": "6d0a1e23-ea71-45d6-82d6-453077cf2d29",
   "metadata": {},
   "source": [
    "## 全局参数设置"
   ]
  },
  {
   "cell_type": "code",
   "execution_count": 1,
   "id": "aa654453-d383-43cc-a92b-e61fae49c9bd",
   "metadata": {
    "execution": {
     "iopub.execute_input": "2024-03-06T09:18:29.156144Z",
     "iopub.status.busy": "2024-03-06T09:18:29.155970Z",
     "iopub.status.idle": "2024-03-06T09:18:29.175045Z",
     "shell.execute_reply": "2024-03-06T09:18:29.174047Z"
    }
   },
   "outputs": [],
   "source": [
    "import os\n",
    "\n",
    "os.environ['HF_HOME'] = '/root/autodl-tmp/huggingface'\n",
    "os.environ['HF_DATASETS_CACHE'] = '/root/autodl-tmp/huggingface/datasets'\n",
    "os.environ['HF_HUB_CACHE'] = '/root/autodl-tmp/huggingface/hub'\n",
    "\n",
    "import subprocess\n",
    "import os\n",
    "\n",
    "result = subprocess.run('bash -c \"source /etc/network_turbo && env | grep proxy\"', shell=True, capture_output=True, text=True)\n",
    "output = result.stdout\n",
    "for line in output.splitlines():\n",
    "    if '=' in line:\n",
    "        var, value = line.split('=', 1)\n",
    "        os.environ[var] = value"
   ]
  },
  {
   "cell_type": "code",
   "execution_count": 2,
   "id": "ccd00402-d821-485e-8703-fb16bcb56a9e",
   "metadata": {
    "execution": {
     "iopub.execute_input": "2024-03-06T09:18:29.178117Z",
     "iopub.status.busy": "2024-03-06T09:18:29.177610Z",
     "iopub.status.idle": "2024-03-06T09:18:29.181882Z",
     "shell.execute_reply": "2024-03-06T09:18:29.181086Z"
    }
   },
   "outputs": [],
   "source": [
    "model_name_or_path = \"openai/whisper-large-v2\"\n",
    "model_dir = \"models/whisper-large-v2-asr-int8\"\n",
    "\n",
    "language = \"Chinese (China)\"\n",
    "language_abbr = \"zh-CN\"\n",
    "task = \"transcribe\"\n",
    "dataset_name = \"mozilla-foundation/common_voice_11_0\"\n",
    "\n",
    "batch_size=64"
   ]
  },
  {
   "cell_type": "markdown",
   "id": "cfffa1df-e51e-4026-9817-1cebddf0061a",
   "metadata": {},
   "source": [
    "## 数据准备\n",
    "\n",
    "### 下载数据集 Common Voice\n",
    "\n",
    "Common Voice 11.0 数据集包含许多不同语言的录音，总时长达数小时。\n",
    "\n",
    "本教程以中文数据为例，展示如何使用 LoRA 在 Whisper-large-v2 上进行微调训练。\n",
    "\n",
    "首先，初始化一个DatasetDict结构，并将训练集（将训练+验证拆分为训练集）和测试集拆分好，按照中文数据集构建配置加载到内存中："
   ]
  },
  {
   "cell_type": "code",
   "execution_count": 3,
   "id": "21ff42f4-f3ec-46d3-b0c0-dd9ffbf7b50b",
   "metadata": {
    "execution": {
     "iopub.execute_input": "2024-03-06T09:18:29.184925Z",
     "iopub.status.busy": "2024-03-06T09:18:29.184419Z",
     "iopub.status.idle": "2024-03-06T09:19:04.664238Z",
     "shell.execute_reply": "2024-03-06T09:19:04.663552Z"
    }
   },
   "outputs": [
    {
     "data": {
      "text/plain": [
       "{'client_id': '95368aab163e0387e4fd4991b4f2d8ccfbd4364bf656c860230501fd27dcedf087773e4695a6cf5de9c4f1d406d582283190d065cdfa36b0e2b060cffaca977e',\n",
       " 'path': '/root/autodl-tmp/huggingface/datasets/downloads/extracted/de7cf5968f9b9ed8c0c690de7a92093d786e417c2fbc7fdef39672e2716baf23/zh-CN_train_0/common_voice_zh-CN_33211332.mp3',\n",
       " 'audio': {'path': '/root/autodl-tmp/huggingface/datasets/downloads/extracted/de7cf5968f9b9ed8c0c690de7a92093d786e417c2fbc7fdef39672e2716baf23/zh-CN_train_0/common_voice_zh-CN_33211332.mp3',\n",
       "  'array': array([-6.82121026e-13, -2.27373675e-12, -2.27373675e-12, ...,\n",
       "          1.21667399e-05,  3.23003678e-06, -2.43066324e-07]),\n",
       "  'sampling_rate': 48000},\n",
       " 'sentence': '性喜温暖润湿气候且耐寒。',\n",
       " 'up_votes': 2,\n",
       " 'down_votes': 0,\n",
       " 'age': '',\n",
       " 'gender': '',\n",
       " 'accent': '',\n",
       " 'locale': 'zh-CN',\n",
       " 'segment': ''}"
      ]
     },
     "execution_count": 3,
     "metadata": {},
     "output_type": "execute_result"
    }
   ],
   "source": [
    "from datasets import load_dataset, DatasetDict\n",
    "\n",
    "common_voice = DatasetDict()\n",
    "\n",
    "common_voice[\"train\"] = load_dataset(dataset_name, language_abbr, split=\"train\", trust_remote_code=True)\n",
    "common_voice[\"validation\"] = load_dataset(dataset_name, language_abbr, split=\"validation\",trust_remote_code=True)\n",
    "\n",
    "common_voice[\"train\"][0]"
   ]
  },
  {
   "cell_type": "code",
   "execution_count": 4,
   "id": "9bed4735-d485-435f-b282-2806241e0e54",
   "metadata": {
    "execution": {
     "iopub.execute_input": "2024-03-06T09:19:04.667452Z",
     "iopub.status.busy": "2024-03-06T09:19:04.667118Z",
     "iopub.status.idle": "2024-03-06T09:19:04.671347Z",
     "shell.execute_reply": "2024-03-06T09:19:04.670652Z"
    }
   },
   "outputs": [
    {
     "data": {
      "text/plain": [
       "DatasetDict({\n",
       "    train: Dataset({\n",
       "        features: ['client_id', 'path', 'audio', 'sentence', 'up_votes', 'down_votes', 'age', 'gender', 'accent', 'locale', 'segment'],\n",
       "        num_rows: 29056\n",
       "    })\n",
       "    validation: Dataset({\n",
       "        features: ['client_id', 'path', 'audio', 'sentence', 'up_votes', 'down_votes', 'age', 'gender', 'accent', 'locale', 'segment'],\n",
       "        num_rows: 10581\n",
       "    })\n",
       "})"
      ]
     },
     "execution_count": 4,
     "metadata": {},
     "output_type": "execute_result"
    }
   ],
   "source": [
    "common_voice"
   ]
  },
  {
   "cell_type": "markdown",
   "id": "3c81faa4-d8fe-4cc7-afe6-4c2615b9050f",
   "metadata": {},
   "source": [
    "## 预处理训练数据集\n"
   ]
  },
  {
   "cell_type": "code",
   "execution_count": 5,
   "id": "5822025f-7f8e-4141-8bfe-d8822d0da20f",
   "metadata": {
    "execution": {
     "iopub.execute_input": "2024-03-06T09:19:04.674340Z",
     "iopub.status.busy": "2024-03-06T09:19:04.674037Z",
     "iopub.status.idle": "2024-03-06T09:19:09.133539Z",
     "shell.execute_reply": "2024-03-06T09:19:09.132363Z"
    }
   },
   "outputs": [
    {
     "name": "stderr",
     "output_type": "stream",
     "text": [
      "Special tokens have been added in the vocabulary, make sure the associated word embeddings are fine-tuned or trained.\n",
      "Special tokens have been added in the vocabulary, make sure the associated word embeddings are fine-tuned or trained.\n"
     ]
    }
   ],
   "source": [
    "from transformers import AutoFeatureExtractor, AutoTokenizer, AutoProcessor\n",
    "\n",
    "# 从预训练模型加载特征提取器\n",
    "feature_extractor = AutoFeatureExtractor.from_pretrained(model_name_or_path)\n",
    "\n",
    "# 从预训练模型加载分词器，可以指定语言和任务以获得最适合特定需求的分词器配置\n",
    "tokenizer = AutoTokenizer.from_pretrained(model_name_or_path, language=language, task=task)\n",
    "\n",
    "# 从预训练模型加载处理器，处理器通常结合了特征提取器和分词器，为特定任务提供一站式的数据预处理\n",
    "processor = AutoProcessor.from_pretrained(model_name_or_path, language=language, task=task)"
   ]
  },
  {
   "cell_type": "markdown",
   "id": "f394e5cd-23b8-413e-8bde-88c3542b84fa",
   "metadata": {},
   "source": [
    "#### 移除数据集中不必要的字段"
   ]
  },
  {
   "cell_type": "code",
   "execution_count": 6,
   "id": "1690dc5a-c1f7-4556-9be3-d31ad888e52e",
   "metadata": {
    "execution": {
     "iopub.execute_input": "2024-03-06T09:19:09.139067Z",
     "iopub.status.busy": "2024-03-06T09:19:09.138840Z",
     "iopub.status.idle": "2024-03-06T09:19:09.146587Z",
     "shell.execute_reply": "2024-03-06T09:19:09.145884Z"
    }
   },
   "outputs": [],
   "source": [
    "common_voice = common_voice.remove_columns(\n",
    "    [\"accent\", \"age\", \"client_id\", \"down_votes\", \"gender\", \"locale\", \"path\", \"segment\", \"up_votes\"]\n",
    ")"
   ]
  },
  {
   "cell_type": "code",
   "execution_count": 7,
   "id": "309aff16-ea26-4474-af54-7ef244783999",
   "metadata": {
    "execution": {
     "iopub.execute_input": "2024-03-06T09:19:09.150632Z",
     "iopub.status.busy": "2024-03-06T09:19:09.149837Z",
     "iopub.status.idle": "2024-03-06T09:19:09.165993Z",
     "shell.execute_reply": "2024-03-06T09:19:09.165419Z"
    }
   },
   "outputs": [
    {
     "data": {
      "text/plain": [
       "{'audio': {'path': '/root/autodl-tmp/huggingface/datasets/downloads/extracted/de7cf5968f9b9ed8c0c690de7a92093d786e417c2fbc7fdef39672e2716baf23/zh-CN_train_0/common_voice_zh-CN_33211591.mp3',\n",
       "  'array': array([-1.13686838e-13, -8.81072992e-13, -1.50635060e-12, ...,\n",
       "         -1.20806035e-05, -9.51409311e-06, -4.57577698e-06]),\n",
       "  'sampling_rate': 48000},\n",
       " 'sentence': '汉代经济先后经历了繁荣和衰落两个极端的阶段。'}"
      ]
     },
     "execution_count": 7,
     "metadata": {},
     "output_type": "execute_result"
    }
   ],
   "source": [
    "common_voice[\"train\"][2]"
   ]
  },
  {
   "cell_type": "code",
   "execution_count": 8,
   "id": "25521eb5",
   "metadata": {
    "execution": {
     "iopub.execute_input": "2024-03-06T09:19:09.168486Z",
     "iopub.status.busy": "2024-03-06T09:19:09.168289Z",
     "iopub.status.idle": "2024-03-06T09:19:09.188170Z",
     "shell.execute_reply": "2024-03-06T09:19:09.187630Z"
    }
   },
   "outputs": [
    {
     "name": "stdout",
     "output_type": "stream",
     "text": [
      "月山寺当阳峪窑市政府旅游介绍页面\n"
     ]
    },
    {
     "data": {
      "text/html": [
       "\n",
       "                <audio  controls=\"controls\" autoplay=\"autoplay\">\n",
       "                    <source src=\"data:audio/mpeg;base64,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\" type=\"audio/mpeg\" />\n",
       "                    Your browser does not support the audio element.\n",
       "                </audio>\n",
       "              "
      ],
      "text/plain": [
       "<IPython.lib.display.Audio object>"
      ]
     },
     "execution_count": 8,
     "metadata": {},
     "output_type": "execute_result"
    }
   ],
   "source": [
    "from IPython.display import Audio\n",
    "\n",
    "item = common_voice[\"train\"][112]\n",
    "audio_path = item['audio']['path']\n",
    "print(item['sentence'])\n",
    "Audio(filename=audio_path, autoplay=True)\n"
   ]
  },
  {
   "cell_type": "markdown",
   "id": "881546ab-72e4-4bcf-852f-a8be736164b7",
   "metadata": {},
   "source": [
    "#### 降采样音频数据\n",
    "\n",
    "查看`common_voice` 数据集介绍，你会发现其音频是以48kHz的采样率进行采样的.\n",
    "\n",
    "而`Whisper`模型是在16kHZ的音频输入上预训练的，因此我们需要将音频输入降采样以匹配模型预训练时使用的采样率。\n",
    "\n",
    "通过在音频列上使用`cast_column`方法，并将`sampling_rate`设置为16kHz来对音频进行降采样。\n",
    "\n",
    "下次调用时，音频输入将实时重新取样："
   ]
  },
  {
   "cell_type": "code",
   "execution_count": 9,
   "id": "5fc451cc-e21e-473c-a702-d7d6ed098f91",
   "metadata": {
    "execution": {
     "iopub.execute_input": "2024-03-06T09:19:09.190780Z",
     "iopub.status.busy": "2024-03-06T09:19:09.190295Z",
     "iopub.status.idle": "2024-03-06T09:19:09.197173Z",
     "shell.execute_reply": "2024-03-06T09:19:09.196617Z"
    }
   },
   "outputs": [],
   "source": [
    "from datasets import Audio\n",
    "\n",
    "common_voice = common_voice.cast_column(\"audio\", Audio(sampling_rate=16000))"
   ]
  },
  {
   "cell_type": "code",
   "execution_count": 10,
   "id": "cc3d7fcc-7c34-41c8-9857-5a6e883f6115",
   "metadata": {
    "execution": {
     "iopub.execute_input": "2024-03-06T09:19:09.199286Z",
     "iopub.status.busy": "2024-03-06T09:19:09.199106Z",
     "iopub.status.idle": "2024-03-06T09:19:09.209236Z",
     "shell.execute_reply": "2024-03-06T09:19:09.208662Z"
    }
   },
   "outputs": [
    {
     "data": {
      "text/plain": [
       "{'audio': {'path': '/root/autodl-tmp/huggingface/datasets/downloads/extracted/de7cf5968f9b9ed8c0c690de7a92093d786e417c2fbc7fdef39672e2716baf23/zh-CN_train_0/common_voice_zh-CN_33211332.mp3',\n",
       "  'array': array([ 5.09317033e-11, -7.27595761e-12, -6.54836185e-11, ...,\n",
       "         -5.96661994e-06,  2.71382887e-05,  1.29687978e-05]),\n",
       "  'sampling_rate': 16000},\n",
       " 'sentence': '性喜温暖润湿气候且耐寒。'}"
      ]
     },
     "execution_count": 10,
     "metadata": {},
     "output_type": "execute_result"
    }
   ],
   "source": [
    "# sampling_rate 从 48KHZ 降为 16KHZ\n",
    "common_voice[\"train\"][0]"
   ]
  },
  {
   "cell_type": "markdown",
   "id": "ee55908f-3ea3-4aee-8062-6f8d3a6573b9",
   "metadata": {},
   "source": [
    "### 整合以上数据处理为一个函数\n",
    "\n",
    "该数据预处理函数应该包括：\n",
    "- 通过加载音频列将音频输入重新采样为16kHZ。\n",
    "- 使用特征提取器从音频数组计算输入特征。\n",
    "- 将句子列标记化为输入标签。"
   ]
  },
  {
   "cell_type": "code",
   "execution_count": 11,
   "id": "58f42c35-35ba-4d6b-9d15-095963cec67c",
   "metadata": {
    "execution": {
     "iopub.execute_input": "2024-03-06T09:19:09.211543Z",
     "iopub.status.busy": "2024-03-06T09:19:09.211352Z",
     "iopub.status.idle": "2024-03-06T09:19:09.214831Z",
     "shell.execute_reply": "2024-03-06T09:19:09.214289Z"
    }
   },
   "outputs": [],
   "source": [
    "def prepare_dataset(batch):\n",
    "    audio = batch[\"audio\"]\n",
    "    batch[\"input_features\"] = feature_extractor(audio[\"array\"], sampling_rate=audio[\"sampling_rate\"]).input_features[0]\n",
    "    batch[\"labels\"] = tokenizer(batch[\"sentence\"]).input_ids\n",
    "    return batch"
   ]
  },
  {
   "cell_type": "code",
   "execution_count": null,
   "id": "d3a04c60-09be-419c-bdc6-6d56bbf9d4d0",
   "metadata": {},
   "outputs": [],
   "source": []
  },
  {
   "cell_type": "markdown",
   "id": "a8923262-f881-476f-9806-61a3c8fb8518",
   "metadata": {},
   "source": [
    "### 数据抽样（演示需要）\n",
    "\n",
    "在 Whisper-Large-v2 上使用小规模数据进行演示训练，保持以下训练参数不变（batch_size=64）。\n",
    "\n",
    "使用 640 个样本训练，320个样本验证和评估，恰好使得1个 epoch 仅需10 steps 即可完成训练。\n",
    "\n",
    "（在 NVIDIA T4 上需要10-15分钟）"
   ]
  },
  {
   "cell_type": "code",
   "execution_count": 12,
   "id": "28b14693-aa42-4f13-a537-66b5c4cb4718",
   "metadata": {
    "execution": {
     "iopub.execute_input": "2024-03-06T09:19:09.217130Z",
     "iopub.status.busy": "2024-03-06T09:19:09.216942Z",
     "iopub.status.idle": "2024-03-06T09:19:09.224932Z",
     "shell.execute_reply": "2024-03-06T09:19:09.224273Z"
    }
   },
   "outputs": [],
   "source": [
    "small_common_voice = DatasetDict()\n",
    "\n",
    "#small_common_voice[\"train\"] = common_voice[\"train\"].shuffle(seed=16).select(range(640))\n",
    "#small_common_voice[\"validation\"] = common_voice[\"validation\"].shuffle(seed=16).select(range(320))\n",
    "\n",
    "small_common_voice[\"train\"] = common_voice[\"train\"].shuffle(seed=16)\n",
    "small_common_voice[\"validation\"] = common_voice[\"validation\"].shuffle(seed=16)"
   ]
  },
  {
   "cell_type": "code",
   "execution_count": 13,
   "id": "46b6a10b-81a9-428d-8130-4c2b626f3ba3",
   "metadata": {
    "execution": {
     "iopub.execute_input": "2024-03-06T09:19:09.227095Z",
     "iopub.status.busy": "2024-03-06T09:19:09.226911Z",
     "iopub.status.idle": "2024-03-06T09:19:09.231145Z",
     "shell.execute_reply": "2024-03-06T09:19:09.230512Z"
    }
   },
   "outputs": [
    {
     "data": {
      "text/plain": [
       "DatasetDict({\n",
       "    train: Dataset({\n",
       "        features: ['audio', 'sentence'],\n",
       "        num_rows: 29056\n",
       "    })\n",
       "    validation: Dataset({\n",
       "        features: ['audio', 'sentence'],\n",
       "        num_rows: 10581\n",
       "    })\n",
       "})"
      ]
     },
     "execution_count": 13,
     "metadata": {},
     "output_type": "execute_result"
    }
   ],
   "source": [
    "small_common_voice"
   ]
  },
  {
   "cell_type": "markdown",
   "id": "5a40f480-6eeb-4546-891b-97ec4a7ec46d",
   "metadata": {},
   "source": [
    "### 如果全量训练，则使用完整数据代替抽样"
   ]
  },
  {
   "cell_type": "code",
   "execution_count": 14,
   "id": "392f7856-a720-40a7-af7e-40e185fc315b",
   "metadata": {
    "execution": {
     "iopub.execute_input": "2024-03-06T09:19:09.233417Z",
     "iopub.status.busy": "2024-03-06T09:19:09.233227Z",
     "iopub.status.idle": "2024-03-06T09:19:09.390514Z",
     "shell.execute_reply": "2024-03-06T09:19:09.389833Z"
    }
   },
   "outputs": [],
   "source": [
    "# 抽样数据处理\n",
    "#tokenized_common_voice = small_common_voice.map(prepare_dataset)\n",
    "\n",
    "# 完整数据训练，尝试开启 `num_proc=8` 参数多进程并行处理（如阻塞无法运行，则不使用此参数）\n",
    "tokenized_common_voice = common_voice.map(prepare_dataset, num_proc=8)"
   ]
  },
  {
   "cell_type": "code",
   "execution_count": 15,
   "id": "76646516-06e2-4700-92fe-4fbb87587e31",
   "metadata": {
    "execution": {
     "iopub.execute_input": "2024-03-06T09:19:09.393011Z",
     "iopub.status.busy": "2024-03-06T09:19:09.392813Z",
     "iopub.status.idle": "2024-03-06T09:19:09.397108Z",
     "shell.execute_reply": "2024-03-06T09:19:09.396483Z"
    }
   },
   "outputs": [
    {
     "data": {
      "text/plain": [
       "DatasetDict({\n",
       "    train: Dataset({\n",
       "        features: ['audio', 'sentence', 'input_features', 'labels'],\n",
       "        num_rows: 29056\n",
       "    })\n",
       "    validation: Dataset({\n",
       "        features: ['audio', 'sentence', 'input_features', 'labels'],\n",
       "        num_rows: 10581\n",
       "    })\n",
       "})"
      ]
     },
     "execution_count": 15,
     "metadata": {},
     "output_type": "execute_result"
    }
   ],
   "source": [
    "tokenized_common_voice"
   ]
  },
  {
   "cell_type": "markdown",
   "id": "84ec184e-d840-40b6-99af-d11392273442",
   "metadata": {},
   "source": [
    "### 自定义语音数据整理器\n",
    "\n",
    "定义了一个针对语音到文本（Seq2Seq）模型的自定义数据整理器类，特别适用于输入为语音特征、输出为文本序列的数据集。\n",
    "\n",
    "\n",
    "这个整理器（`DataCollatorSpeechSeq2SeqWithPadding`）旨在将数据点批量打包，将每个批次中的`attention_mask`填充到最大长度，以保持批处理中张量形状的一致性，并用`-100`替换填充值，以便在损失函数中被忽略。这对于神经网络的高效训练至关重要。"
   ]
  },
  {
   "cell_type": "code",
   "execution_count": 16,
   "id": "4c89ffcf-c805-48c2-b7d3-ae01b687178c",
   "metadata": {
    "execution": {
     "iopub.execute_input": "2024-03-06T09:19:09.399368Z",
     "iopub.status.busy": "2024-03-06T09:19:09.399183Z",
     "iopub.status.idle": "2024-03-06T09:19:09.405969Z",
     "shell.execute_reply": "2024-03-06T09:19:09.405417Z"
    }
   },
   "outputs": [],
   "source": [
    "import torch\n",
    "\n",
    "from dataclasses import dataclass\n",
    "from typing import Any, Dict, List, Union\n",
    "\n",
    "# 定义一个针对语音到文本任务的数据整理器类\n",
    "@dataclass\n",
    "class DataCollatorSpeechSeq2SeqWithPadding:\n",
    "    processor: Any  # 处理器结合了特征提取器和分词器\n",
    "\n",
    "    # 整理器函数，将特征列表处理成一个批次\n",
    "    def __call__(self, features: List[Dict[str, Union[List[int], torch.Tensor]]]) -> Dict[str, torch.Tensor]:\n",
    "        # 从特征列表中提取输入特征，并填充以使它们具有相同的形状\n",
    "        input_features = [{\"input_features\": feature[\"input_features\"]} for feature in features]\n",
    "        batch = self.processor.feature_extractor.pad(input_features, return_tensors=\"pt\")\n",
    "\n",
    "        # 从特征列表中提取标签特征（文本令牌），并进行填充\n",
    "        label_features = [{\"input_ids\": feature[\"labels\"]} for feature in features]\n",
    "        labels_batch = self.processor.tokenizer.pad(label_features, return_tensors=\"pt\")\n",
    "\n",
    "        # 使用-100替换标签中的填充区域，-100通常用于在损失计算中忽略填充令牌\n",
    "        labels = labels_batch[\"input_ids\"].masked_fill(labels_batch.attention_mask.ne(1), -100)\n",
    "\n",
    "        # 如果批次中的所有序列都以句子开始令牌开头，则移除它\n",
    "        if (labels[:, 0] == self.processor.tokenizer.bos_token_id).all().cpu().item():\n",
    "            labels = labels[:, 1:]\n",
    "\n",
    "        # 将处理过的标签添加到批次中\n",
    "        batch[\"labels\"] = labels\n",
    "\n",
    "        return batch  # 返回最终的批次，准备好进行训练或评估"
   ]
  },
  {
   "cell_type": "code",
   "execution_count": 17,
   "id": "a26a6b4d-5370-4a48-936a-84739ac0cc2f",
   "metadata": {
    "execution": {
     "iopub.execute_input": "2024-03-06T09:19:09.408088Z",
     "iopub.status.busy": "2024-03-06T09:19:09.407906Z",
     "iopub.status.idle": "2024-03-06T09:19:09.410755Z",
     "shell.execute_reply": "2024-03-06T09:19:09.410241Z"
    }
   },
   "outputs": [],
   "source": [
    "# 用给定的处理器实例化数据整理器\n",
    "data_collator = DataCollatorSpeechSeq2SeqWithPadding(processor=processor)"
   ]
  },
  {
   "cell_type": "markdown",
   "id": "80ecd4bc-01fd-4286-afe5-fe2639ae15a1",
   "metadata": {},
   "source": [
    "## 模型准备\n",
    "\n",
    "### 加载预训练模型（int8 精度）\n",
    "\n",
    "使用 `int8 ` 精度加载预训练模型，进一步降低显存需求。"
   ]
  },
  {
   "cell_type": "code",
   "execution_count": 18,
   "id": "f9fcb121-fa5c-4c30-8bdc-9ab08ab75427",
   "metadata": {
    "execution": {
     "iopub.execute_input": "2024-03-06T09:19:09.412877Z",
     "iopub.status.busy": "2024-03-06T09:19:09.412702Z",
     "iopub.status.idle": "2024-03-06T09:19:13.801272Z",
     "shell.execute_reply": "2024-03-06T09:19:13.800475Z"
    }
   },
   "outputs": [
    {
     "name": "stderr",
     "output_type": "stream",
     "text": [
      "The `load_in_4bit` and `load_in_8bit` arguments are deprecated and will be removed in the future versions. Please, pass a `BitsAndBytesConfig` object in `quantization_config` argument instead.\n"
     ]
    }
   ],
   "source": [
    "from transformers import AutoModelForSpeechSeq2Seq\n",
    "\n",
    "model = AutoModelForSpeechSeq2Seq.from_pretrained(model_name_or_path, load_in_8bit=True, device_map=\"auto\")"
   ]
  },
  {
   "cell_type": "code",
   "execution_count": 19,
   "id": "2cb016f1-e6e9-4fd8-9c8b-72fd23be92d3",
   "metadata": {
    "execution": {
     "iopub.execute_input": "2024-03-06T09:19:13.806159Z",
     "iopub.status.busy": "2024-03-06T09:19:13.805774Z",
     "iopub.status.idle": "2024-03-06T09:19:13.809903Z",
     "shell.execute_reply": "2024-03-06T09:19:13.809318Z"
    }
   },
   "outputs": [],
   "source": [
    "# 设置模型配置中的forced_decoder_ids属性为None\n",
    "model.config.forced_decoder_ids = None  # 这通常用于指定在解码（生成文本）过程中必须使用的特定token的ID，设置为None表示没有这样的强制要求\n",
    "\n",
    "# 设置模型配置中的suppress_tokens列表为空\n",
    "model.config.suppress_tokens = []  # 这用于指定在生成过程中应被抑制（不生成）的token的列表，设置为空列表表示没有要抑制的token"
   ]
  },
  {
   "cell_type": "markdown",
   "id": "25ba1fa0-ea15-48d9-8c16-70df9f0b60b1",
   "metadata": {},
   "source": [
    "### PEFT 微调前的模型处理\n",
    "\n",
    "在使用 `peft` 训练 int8 模型之前，需要进行一些预处理：\n",
    "- 将所有非 `int8` 精度模块转换为全精度（`fp32`）以保证稳定性\n",
    "- 为输入嵌入层添加一个 `forward_hook`，以启用输入隐藏状态的梯度计算\n",
    "- 启用梯度检查点以实现更高效的内存训练\n",
    "\n",
    "使用 `peft` 库预定义的工具函数 `prepare_model_for_int8_training`，便可自动完成以上模型处理工作。"
   ]
  },
  {
   "cell_type": "code",
   "execution_count": 20,
   "id": "1ee34359-fe1b-48f1-827c-6a8ec4a53af7",
   "metadata": {
    "execution": {
     "iopub.execute_input": "2024-03-06T09:19:13.812138Z",
     "iopub.status.busy": "2024-03-06T09:19:13.811951Z",
     "iopub.status.idle": "2024-03-06T09:19:13.870726Z",
     "shell.execute_reply": "2024-03-06T09:19:13.870094Z"
    }
   },
   "outputs": [
    {
     "name": "stderr",
     "output_type": "stream",
     "text": [
      "/root/miniconda3/envs/llm/lib/python3.10/site-packages/peft/utils/other.py:143: FutureWarning: prepare_model_for_int8_training is deprecated and will be removed in a future version. Use prepare_model_for_kbit_training instead.\n",
      "  warnings.warn(\n"
     ]
    }
   ],
   "source": [
    "from peft import prepare_model_for_int8_training\n",
    "\n",
    "model = prepare_model_for_int8_training(model)"
   ]
  },
  {
   "cell_type": "markdown",
   "id": "cb1212ae-c18c-459b-97a2-4b833c8414ae",
   "metadata": {},
   "source": [
    "### LoRA Adapter 配置\n",
    "\n",
    "在 `peft` 中使用`LoRA`非常简捷，借助 `PeftModel`抽象，我们可以快速使用低秩适配器（LoRA）到任意模型。\n",
    "\n",
    "通过使用 `peft` 中的 `get_peft_model` 工具函数来实现。\n",
    "\n",
    "#### 关于 LoRA 超参数的说明：\n",
    "```\n",
    "MatMul(B,A) * Scaling\n",
    "Scaling = LoRA_Alpha / Rank\n",
    "```"
   ]
  },
  {
   "cell_type": "code",
   "execution_count": 21,
   "id": "cdf6bc9c-6d2c-4dbf-b09e-a89cb1041c46",
   "metadata": {
    "execution": {
     "iopub.execute_input": "2024-03-06T09:19:13.873975Z",
     "iopub.status.busy": "2024-03-06T09:19:13.873649Z",
     "iopub.status.idle": "2024-03-06T09:19:13.878201Z",
     "shell.execute_reply": "2024-03-06T09:19:13.877526Z"
    }
   },
   "outputs": [],
   "source": [
    "from peft import LoraConfig, PeftModel, LoraModel, LoraConfig, get_peft_model\n",
    "\n",
    "# 创建一个LoraConfig对象，用于设置LoRA（Low-Rank Adaptation）的配置参数\n",
    "config = LoraConfig(\n",
    "    r=4,  # LoRA的秩，影响LoRA矩阵的大小\n",
    "    lora_alpha=64,  # LoRA适应的比例因子\n",
    "    # 指定将LoRA应用到的模型模块，通常是attention和全连接层的投影。\n",
    "    target_modules=[\"q_proj\", \"v_proj\"],\n",
    "    lora_dropout=0.05,  # 在LoRA模块中使用的dropout率\n",
    "    bias=\"none\",  # 设置bias的使用方式，这里没有使用bias\n",
    ")"
   ]
  },
  {
   "cell_type": "markdown",
   "id": "584652a6-cf07-49d3-a4ee-66f360441fc0",
   "metadata": {},
   "source": [
    "### 使用get_peft_model函数和给定的配置来获取一个PEFT模型"
   ]
  },
  {
   "cell_type": "code",
   "execution_count": 22,
   "id": "7a8f9dc5-6e15-4f16-9ac5-e7492356fe88",
   "metadata": {
    "execution": {
     "iopub.execute_input": "2024-03-06T09:19:13.880817Z",
     "iopub.status.busy": "2024-03-06T09:19:13.880522Z",
     "iopub.status.idle": "2024-03-06T09:19:14.053824Z",
     "shell.execute_reply": "2024-03-06T09:19:14.052985Z"
    }
   },
   "outputs": [],
   "source": [
    "peft_model = get_peft_model(model, config)"
   ]
  },
  {
   "cell_type": "code",
   "execution_count": 23,
   "id": "b74c7508-e6f4-42d8-8aaf-fe83c5977c35",
   "metadata": {
    "execution": {
     "iopub.execute_input": "2024-03-06T09:19:14.059236Z",
     "iopub.status.busy": "2024-03-06T09:19:14.059052Z",
     "iopub.status.idle": "2024-03-06T09:19:14.071623Z",
     "shell.execute_reply": "2024-03-06T09:19:14.070559Z"
    }
   },
   "outputs": [
    {
     "name": "stdout",
     "output_type": "stream",
     "text": [
      "trainable params: 1,966,080 || all params: 1,545,271,040 || trainable%: 0.12723204856023188\n"
     ]
    }
   ],
   "source": [
    "# 打印 LoRA 微调训练的模型参数\n",
    "peft_model.print_trainable_parameters()"
   ]
  },
  {
   "cell_type": "markdown",
   "id": "1cc6b26a-3e54-4a46-9b36-a048b40a37d7",
   "metadata": {},
   "source": [
    "## 模型训练\n",
    "\n",
    "#### Seq2SeqTrainingArguments 训练参数\n",
    "\n",
    "**关于设置训练步数和评估步数**\n",
    "\n",
    "基于 epochs 设置：\n",
    "\n",
    "```python\n",
    "    num_train_epochs=3,  # 训练的总轮数\n",
    "    evaluation_strategy=\"epoch\",  # 设置评估策略，这里是在每个epoch结束时进行评估\n",
    "    warmup_steps=50,  # 在训练初期增加学习率的步数，有助于稳定训练\n",
    "```\n",
    "\n",
    "基于 steps 设置：\n",
    "\n",
    "```python\n",
    "    max_steps=100, # 训练总步数\n",
    "    evaluation_strategy=\"steps\", \n",
    "    eval_steps=25, # 评估步数\n",
    "```"
   ]
  },
  {
   "cell_type": "code",
   "execution_count": 24,
   "id": "11f259c8-dbcf-4a7f-bbb5-821ab104efee",
   "metadata": {
    "execution": {
     "iopub.execute_input": "2024-03-06T09:19:14.074993Z",
     "iopub.status.busy": "2024-03-06T09:19:14.074460Z",
     "iopub.status.idle": "2024-03-06T09:19:14.101499Z",
     "shell.execute_reply": "2024-03-06T09:19:14.100730Z"
    }
   },
   "outputs": [],
   "source": [
    "from transformers import Seq2SeqTrainingArguments\n",
    "\n",
    "# 设置序列到序列模型训练的参数\n",
    "training_args = Seq2SeqTrainingArguments(\n",
    "    output_dir=model_dir,  # 指定模型输出和保存的目录\n",
    "    per_device_train_batch_size=batch_size,  # 每个设备上的训练批量大小\n",
    "    learning_rate=1e-3,  # 学习率\n",
    "    num_train_epochs=4,  # 训练的总轮数\n",
    "    evaluation_strategy=\"epoch\",  # 设置评估策略，这里是在每个epoch结束时进行评估\n",
    "    # warmup_steps=50,  # 在训练初期增加学习率的步数，有助于稳定训练\n",
    "    # fp16=True,  # 启用混合精度训练，可以提高训练速度，同时减少内存使用\n",
    "    per_device_eval_batch_size=batch_size,  # 每个设备上的评估批量大小\n",
    "    generation_max_length=128,  # 生成任务的最大长度\n",
    "    logging_steps=10,  # 指定日志记录的步骤，用于跟踪训练进度\n",
    "    remove_unused_columns=False,  # 是否删除不使用的列，以减少数据处理开销\n",
    "    label_names=[\"labels\"],  # 指定标签列的名称，用于训练过程中\n",
    "    # evaluation_strategy=\"steps\",\n",
    "    # eval_steps=25,\n",
    ")"
   ]
  },
  {
   "cell_type": "markdown",
   "id": "c57ee183-b16f-4313-97f6-0df6c0f5f467",
   "metadata": {},
   "source": [
    "### 实例化 Seq2SeqTrainer 训练器"
   ]
  },
  {
   "cell_type": "code",
   "execution_count": 25,
   "id": "f8a52ed7-cae0-4aba-818e-87717430d908",
   "metadata": {
    "execution": {
     "iopub.execute_input": "2024-03-06T09:19:14.106536Z",
     "iopub.status.busy": "2024-03-06T09:19:14.106342Z",
     "iopub.status.idle": "2024-03-06T09:19:14.167641Z",
     "shell.execute_reply": "2024-03-06T09:19:14.166761Z"
    }
   },
   "outputs": [],
   "source": [
    "from transformers import Seq2SeqTrainer\n",
    "\n",
    "trainer = Seq2SeqTrainer(\n",
    "    args=training_args,\n",
    "    model=peft_model,\n",
    "    train_dataset=tokenized_common_voice[\"train\"],\n",
    "    eval_dataset=tokenized_common_voice[\"validation\"],\n",
    "    data_collator=data_collator,\n",
    "    tokenizer=processor.feature_extractor,\n",
    ")\n",
    "peft_model.config.use_cache = False"
   ]
  },
  {
   "cell_type": "code",
   "execution_count": 26,
   "id": "6973bed7-8f53-4d55-966c-f037941e5ef3",
   "metadata": {
    "execution": {
     "iopub.execute_input": "2024-03-06T09:19:14.172063Z",
     "iopub.status.busy": "2024-03-06T09:19:14.171642Z",
     "iopub.status.idle": "2024-03-06T19:09:02.438658Z",
     "shell.execute_reply": "2024-03-06T19:09:02.437849Z"
    }
   },
   "outputs": [
    {
     "name": "stderr",
     "output_type": "stream",
     "text": [
      "/root/miniconda3/envs/llm/lib/python3.10/site-packages/torch/utils/checkpoint.py:460: UserWarning: torch.utils.checkpoint: please pass in use_reentrant=True or use_reentrant=False explicitly. The default value of use_reentrant will be updated to be False in the future. To maintain current behavior, pass use_reentrant=True. It is recommended that you use use_reentrant=False. Refer to docs for more details on the differences between the two variants.\n",
      "  warnings.warn(\n",
      "/root/miniconda3/envs/llm/lib/python3.10/site-packages/torch/utils/checkpoint.py:90: UserWarning: None of the inputs have requires_grad=True. Gradients will be None\n",
      "  warnings.warn(\n",
      "/root/miniconda3/envs/llm/lib/python3.10/site-packages/bitsandbytes/autograd/_functions.py:322: UserWarning: MatMul8bitLt: inputs will be cast from torch.float32 to float16 during quantization\n",
      "  warnings.warn(f\"MatMul8bitLt: inputs will be cast from {A.dtype} to float16 during quantization\")\n"
     ]
    },
    {
     "data": {
      "text/html": [
       "\n",
       "    <div>\n",
       "      \n",
       "      <progress value='1816' max='1816' style='width:300px; height:20px; vertical-align: middle;'></progress>\n",
       "      [1816/1816 9:49:25, Epoch 4/4]\n",
       "    </div>\n",
       "    <table border=\"1\" class=\"dataframe\">\n",
       "  <thead>\n",
       " <tr style=\"text-align: left;\">\n",
       "      <th>Epoch</th>\n",
       "      <th>Training Loss</th>\n",
       "      <th>Validation Loss</th>\n",
       "    </tr>\n",
       "  </thead>\n",
       "  <tbody>\n",
       "    <tr>\n",
       "      <td>1</td>\n",
       "      <td>0.350900</td>\n",
       "      <td>0.403357</td>\n",
       "    </tr>\n",
       "    <tr>\n",
       "      <td>2</td>\n",
       "      <td>0.299200</td>\n",
       "      <td>0.391355</td>\n",
       "    </tr>\n",
       "    <tr>\n",
       "      <td>3</td>\n",
       "      <td>0.289000</td>\n",
       "      <td>0.391557</td>\n",
       "    </tr>\n",
       "    <tr>\n",
       "      <td>4</td>\n",
       "      <td>0.155900</td>\n",
       "      <td>0.399788</td>\n",
       "    </tr>\n",
       "  </tbody>\n",
       "</table><p>"
      ],
      "text/plain": [
       "<IPython.core.display.HTML object>"
      ]
     },
     "metadata": {},
     "output_type": "display_data"
    },
    {
     "name": "stderr",
     "output_type": "stream",
     "text": [
      "/root/miniconda3/envs/llm/lib/python3.10/site-packages/torch/utils/checkpoint.py:460: UserWarning: torch.utils.checkpoint: please pass in use_reentrant=True or use_reentrant=False explicitly. The default value of use_reentrant will be updated to be False in the future. To maintain current behavior, pass use_reentrant=True. It is recommended that you use use_reentrant=False. Refer to docs for more details on the differences between the two variants.\n",
      "  warnings.warn(\n",
      "/root/miniconda3/envs/llm/lib/python3.10/site-packages/torch/utils/checkpoint.py:90: UserWarning: None of the inputs have requires_grad=True. Gradients will be None\n",
      "  warnings.warn(\n",
      "/root/miniconda3/envs/llm/lib/python3.10/site-packages/bitsandbytes/autograd/_functions.py:322: UserWarning: MatMul8bitLt: inputs will be cast from torch.float32 to float16 during quantization\n",
      "  warnings.warn(f\"MatMul8bitLt: inputs will be cast from {A.dtype} to float16 during quantization\")\n",
      "/root/miniconda3/envs/llm/lib/python3.10/site-packages/torch/utils/checkpoint.py:460: UserWarning: torch.utils.checkpoint: please pass in use_reentrant=True or use_reentrant=False explicitly. The default value of use_reentrant will be updated to be False in the future. To maintain current behavior, pass use_reentrant=True. It is recommended that you use use_reentrant=False. Refer to docs for more details on the differences between the two variants.\n",
      "  warnings.warn(\n",
      "/root/miniconda3/envs/llm/lib/python3.10/site-packages/torch/utils/checkpoint.py:90: UserWarning: None of the inputs have requires_grad=True. Gradients will be None\n",
      "  warnings.warn(\n",
      "/root/miniconda3/envs/llm/lib/python3.10/site-packages/bitsandbytes/autograd/_functions.py:322: UserWarning: MatMul8bitLt: inputs will be cast from torch.float32 to float16 during quantization\n",
      "  warnings.warn(f\"MatMul8bitLt: inputs will be cast from {A.dtype} to float16 during quantization\")\n",
      "/root/miniconda3/envs/llm/lib/python3.10/site-packages/torch/utils/checkpoint.py:460: UserWarning: torch.utils.checkpoint: please pass in use_reentrant=True or use_reentrant=False explicitly. The default value of use_reentrant will be updated to be False in the future. To maintain current behavior, pass use_reentrant=True. It is recommended that you use use_reentrant=False. Refer to docs for more details on the differences between the two variants.\n",
      "  warnings.warn(\n",
      "/root/miniconda3/envs/llm/lib/python3.10/site-packages/torch/utils/checkpoint.py:90: UserWarning: None of the inputs have requires_grad=True. Gradients will be None\n",
      "  warnings.warn(\n",
      "/root/miniconda3/envs/llm/lib/python3.10/site-packages/bitsandbytes/autograd/_functions.py:322: UserWarning: MatMul8bitLt: inputs will be cast from torch.float32 to float16 during quantization\n",
      "  warnings.warn(f\"MatMul8bitLt: inputs will be cast from {A.dtype} to float16 during quantization\")\n"
     ]
    },
    {
     "data": {
      "text/plain": [
       "TrainOutput(global_step=1816, training_loss=0.27982029377889, metrics={'train_runtime': 35387.9988, 'train_samples_per_second': 3.284, 'train_steps_per_second': 0.051, 'total_flos': 2.47092476903424e+20, 'train_loss': 0.27982029377889, 'epoch': 4.0})"
      ]
     },
     "execution_count": 26,
     "metadata": {},
     "output_type": "execute_result"
    }
   ],
   "source": [
    "trainer.train()"
   ]
  },
  {
   "cell_type": "markdown",
   "id": "620992c3-64f5-48f9-8e66-fdc5f6a27427",
   "metadata": {},
   "source": [
    "### 保存 LoRA 模型(Adapter)"
   ]
  },
  {
   "cell_type": "code",
   "execution_count": 27,
   "id": "53310565-7313-46a7-acf1-215970fd4f8e",
   "metadata": {
    "execution": {
     "iopub.execute_input": "2024-03-06T19:09:02.442269Z",
     "iopub.status.busy": "2024-03-06T19:09:02.441620Z",
     "iopub.status.idle": "2024-03-06T19:09:05.946262Z",
     "shell.execute_reply": "2024-03-06T19:09:05.945533Z"
    }
   },
   "outputs": [],
   "source": [
    "trainer.save_model(model_dir)"
   ]
  },
  {
   "cell_type": "code",
   "execution_count": 28,
   "id": "412785f2-f66f-492a-b01a-06ca81d9aed7",
   "metadata": {
    "collapsed": true,
    "execution": {
     "iopub.execute_input": "2024-03-06T19:09:05.950698Z",
     "iopub.status.busy": "2024-03-06T19:09:05.950501Z",
     "iopub.status.idle": "2024-03-06T19:09:05.978347Z",
     "shell.execute_reply": "2024-03-06T19:09:05.977675Z"
    },
    "jupyter": {
     "outputs_hidden": true
    }
   },
   "outputs": [
    {
     "data": {
      "text/plain": [
       "PeftModel(\n",
       "  (base_model): LoraModel(\n",
       "    (model): WhisperForConditionalGeneration(\n",
       "      (model): WhisperModel(\n",
       "        (encoder): WhisperEncoder(\n",
       "          (conv1): Conv1d(80, 1280, kernel_size=(3,), stride=(1,), padding=(1,))\n",
       "          (conv2): Conv1d(1280, 1280, kernel_size=(3,), stride=(2,), padding=(1,))\n",
       "          (embed_positions): Embedding(1500, 1280)\n",
       "          (layers): ModuleList(\n",
       "            (0-31): 32 x WhisperEncoderLayer(\n",
       "              (self_attn): WhisperSdpaAttention(\n",
       "                (k_proj): Linear8bitLt(in_features=1280, out_features=1280, bias=False)\n",
       "                (v_proj): lora.Linear8bitLt(\n",
       "                  (base_layer): Linear8bitLt(in_features=1280, out_features=1280, bias=True)\n",
       "                  (lora_dropout): ModuleDict(\n",
       "                    (default): Dropout(p=0.05, inplace=False)\n",
       "                  )\n",
       "                  (lora_A): ModuleDict(\n",
       "                    (default): Linear(in_features=1280, out_features=4, bias=False)\n",
       "                  )\n",
       "                  (lora_B): ModuleDict(\n",
       "                    (default): Linear(in_features=4, out_features=1280, bias=False)\n",
       "                  )\n",
       "                  (lora_embedding_A): ParameterDict()\n",
       "                  (lora_embedding_B): ParameterDict()\n",
       "                )\n",
       "                (q_proj): lora.Linear8bitLt(\n",
       "                  (base_layer): Linear8bitLt(in_features=1280, out_features=1280, bias=True)\n",
       "                  (lora_dropout): ModuleDict(\n",
       "                    (default): Dropout(p=0.05, inplace=False)\n",
       "                  )\n",
       "                  (lora_A): ModuleDict(\n",
       "                    (default): Linear(in_features=1280, out_features=4, bias=False)\n",
       "                  )\n",
       "                  (lora_B): ModuleDict(\n",
       "                    (default): Linear(in_features=4, out_features=1280, bias=False)\n",
       "                  )\n",
       "                  (lora_embedding_A): ParameterDict()\n",
       "                  (lora_embedding_B): ParameterDict()\n",
       "                )\n",
       "                (out_proj): Linear8bitLt(in_features=1280, out_features=1280, bias=True)\n",
       "              )\n",
       "              (self_attn_layer_norm): LayerNorm((1280,), eps=1e-05, elementwise_affine=True)\n",
       "              (activation_fn): GELUActivation()\n",
       "              (fc1): Linear8bitLt(in_features=1280, out_features=5120, bias=True)\n",
       "              (fc2): Linear8bitLt(in_features=5120, out_features=1280, bias=True)\n",
       "              (final_layer_norm): LayerNorm((1280,), eps=1e-05, elementwise_affine=True)\n",
       "            )\n",
       "          )\n",
       "          (layer_norm): LayerNorm((1280,), eps=1e-05, elementwise_affine=True)\n",
       "        )\n",
       "        (decoder): WhisperDecoder(\n",
       "          (embed_tokens): Embedding(51865, 1280, padding_idx=50257)\n",
       "          (embed_positions): WhisperPositionalEmbedding(448, 1280)\n",
       "          (layers): ModuleList(\n",
       "            (0-31): 32 x WhisperDecoderLayer(\n",
       "              (self_attn): WhisperSdpaAttention(\n",
       "                (k_proj): Linear8bitLt(in_features=1280, out_features=1280, bias=False)\n",
       "                (v_proj): lora.Linear8bitLt(\n",
       "                  (base_layer): Linear8bitLt(in_features=1280, out_features=1280, bias=True)\n",
       "                  (lora_dropout): ModuleDict(\n",
       "                    (default): Dropout(p=0.05, inplace=False)\n",
       "                  )\n",
       "                  (lora_A): ModuleDict(\n",
       "                    (default): Linear(in_features=1280, out_features=4, bias=False)\n",
       "                  )\n",
       "                  (lora_B): ModuleDict(\n",
       "                    (default): Linear(in_features=4, out_features=1280, bias=False)\n",
       "                  )\n",
       "                  (lora_embedding_A): ParameterDict()\n",
       "                  (lora_embedding_B): ParameterDict()\n",
       "                )\n",
       "                (q_proj): lora.Linear8bitLt(\n",
       "                  (base_layer): Linear8bitLt(in_features=1280, out_features=1280, bias=True)\n",
       "                  (lora_dropout): ModuleDict(\n",
       "                    (default): Dropout(p=0.05, inplace=False)\n",
       "                  )\n",
       "                  (lora_A): ModuleDict(\n",
       "                    (default): Linear(in_features=1280, out_features=4, bias=False)\n",
       "                  )\n",
       "                  (lora_B): ModuleDict(\n",
       "                    (default): Linear(in_features=4, out_features=1280, bias=False)\n",
       "                  )\n",
       "                  (lora_embedding_A): ParameterDict()\n",
       "                  (lora_embedding_B): ParameterDict()\n",
       "                )\n",
       "                (out_proj): Linear8bitLt(in_features=1280, out_features=1280, bias=True)\n",
       "              )\n",
       "              (activation_fn): GELUActivation()\n",
       "              (self_attn_layer_norm): LayerNorm((1280,), eps=1e-05, elementwise_affine=True)\n",
       "              (encoder_attn): WhisperSdpaAttention(\n",
       "                (k_proj): Linear8bitLt(in_features=1280, out_features=1280, bias=False)\n",
       "                (v_proj): lora.Linear8bitLt(\n",
       "                  (base_layer): Linear8bitLt(in_features=1280, out_features=1280, bias=True)\n",
       "                  (lora_dropout): ModuleDict(\n",
       "                    (default): Dropout(p=0.05, inplace=False)\n",
       "                  )\n",
       "                  (lora_A): ModuleDict(\n",
       "                    (default): Linear(in_features=1280, out_features=4, bias=False)\n",
       "                  )\n",
       "                  (lora_B): ModuleDict(\n",
       "                    (default): Linear(in_features=4, out_features=1280, bias=False)\n",
       "                  )\n",
       "                  (lora_embedding_A): ParameterDict()\n",
       "                  (lora_embedding_B): ParameterDict()\n",
       "                )\n",
       "                (q_proj): lora.Linear8bitLt(\n",
       "                  (base_layer): Linear8bitLt(in_features=1280, out_features=1280, bias=True)\n",
       "                  (lora_dropout): ModuleDict(\n",
       "                    (default): Dropout(p=0.05, inplace=False)\n",
       "                  )\n",
       "                  (lora_A): ModuleDict(\n",
       "                    (default): Linear(in_features=1280, out_features=4, bias=False)\n",
       "                  )\n",
       "                  (lora_B): ModuleDict(\n",
       "                    (default): Linear(in_features=4, out_features=1280, bias=False)\n",
       "                  )\n",
       "                  (lora_embedding_A): ParameterDict()\n",
       "                  (lora_embedding_B): ParameterDict()\n",
       "                )\n",
       "                (out_proj): Linear8bitLt(in_features=1280, out_features=1280, bias=True)\n",
       "              )\n",
       "              (encoder_attn_layer_norm): LayerNorm((1280,), eps=1e-05, elementwise_affine=True)\n",
       "              (fc1): Linear8bitLt(in_features=1280, out_features=5120, bias=True)\n",
       "              (fc2): Linear8bitLt(in_features=5120, out_features=1280, bias=True)\n",
       "              (final_layer_norm): LayerNorm((1280,), eps=1e-05, elementwise_affine=True)\n",
       "            )\n",
       "          )\n",
       "          (layer_norm): LayerNorm((1280,), eps=1e-05, elementwise_affine=True)\n",
       "        )\n",
       "      )\n",
       "      (proj_out): Linear(in_features=1280, out_features=51865, bias=False)\n",
       "    )\n",
       "  )\n",
       ")"
      ]
     },
     "execution_count": 28,
     "metadata": {},
     "output_type": "execute_result"
    }
   ],
   "source": [
    "peft_model.eval()"
   ]
  },
  {
   "cell_type": "markdown",
   "id": "dcfe9611-eee5-462f-8cb8-fed86eec76e0",
   "metadata": {},
   "source": [
    "## 模型推理（可能需要重启 Notebook）\n",
    "\n",
    "**再次加载模型会额外占用显存，如果显存已经达到上限，建议重启 Notebook 后再进行以下操作**\n"
   ]
  },
  {
   "cell_type": "code",
   "execution_count": 29,
   "id": "bd2890f5-2eb9-493d-b43b-266fb12c6ac6",
   "metadata": {
    "execution": {
     "iopub.execute_input": "2024-03-06T19:09:05.981672Z",
     "iopub.status.busy": "2024-03-06T19:09:05.981492Z",
     "iopub.status.idle": "2024-03-06T19:09:05.984723Z",
     "shell.execute_reply": "2024-03-06T19:09:05.984159Z"
    }
   },
   "outputs": [],
   "source": [
    "model_dir = \"models/whisper-large-v2-asr-int8\"\n",
    "\n",
    "language = \"Chinese (China)\"\n",
    "language_abbr = \"zh-CN\"\n",
    "language_decode = \"chinese\"\n",
    "task = \"transcribe\""
   ]
  },
  {
   "cell_type": "markdown",
   "id": "d5ad8bc8-420b-4a98-b83f-08303693221b",
   "metadata": {},
   "source": [
    "\n",
    "### 使用 `PeftModel` 加载 LoRA 微调后 Whisper 模型\n",
    "\n",
    "使用 `PeftConfig` 加载 LoRA Adapter 配置参数，使用 `PeftModel` 加载微调后 Whisper 模型"
   ]
  },
  {
   "cell_type": "code",
   "execution_count": 30,
   "id": "9d7f3af5-af01-4c26-80e9-976686983178",
   "metadata": {
    "execution": {
     "iopub.execute_input": "2024-03-06T19:09:05.987168Z",
     "iopub.status.busy": "2024-03-06T19:09:05.986992Z",
     "iopub.status.idle": "2024-03-06T19:09:09.612612Z",
     "shell.execute_reply": "2024-03-06T19:09:09.611772Z"
    }
   },
   "outputs": [
    {
     "name": "stderr",
     "output_type": "stream",
     "text": [
      "The `load_in_4bit` and `load_in_8bit` arguments are deprecated and will be removed in the future versions. Please, pass a `BitsAndBytesConfig` object in `quantization_config` argument instead.\n"
     ]
    }
   ],
   "source": [
    "from transformers import AutoModelForSpeechSeq2Seq, AutoTokenizer, AutoProcessor\n",
    "from peft import PeftConfig, PeftModel\n",
    "\n",
    "peft_config = PeftConfig.from_pretrained(model_dir)\n",
    "\n",
    "base_model = AutoModelForSpeechSeq2Seq.from_pretrained(\n",
    "    peft_config.base_model_name_or_path, load_in_8bit=True, device_map=\"auto\"\n",
    ")\n",
    "\n",
    "peft_model = PeftModel.from_pretrained(base_model, model_dir)"
   ]
  },
  {
   "cell_type": "code",
   "execution_count": 31,
   "id": "e3686334-d8d1-4782-834b-187aa684fb77",
   "metadata": {
    "execution": {
     "iopub.execute_input": "2024-03-06T19:09:09.618250Z",
     "iopub.status.busy": "2024-03-06T19:09:09.618035Z",
     "iopub.status.idle": "2024-03-06T19:09:11.477741Z",
     "shell.execute_reply": "2024-03-06T19:09:11.476656Z"
    }
   },
   "outputs": [
    {
     "name": "stderr",
     "output_type": "stream",
     "text": [
      "Special tokens have been added in the vocabulary, make sure the associated word embeddings are fine-tuned or trained.\n",
      "Special tokens have been added in the vocabulary, make sure the associated word embeddings are fine-tuned or trained.\n"
     ]
    }
   ],
   "source": [
    "tokenizer = AutoTokenizer.from_pretrained(peft_config.base_model_name_or_path, language=language, task=task)\n",
    "processor = AutoProcessor.from_pretrained(peft_config.base_model_name_or_path, language=language, task=task)\n",
    "feature_extractor = processor.feature_extractor"
   ]
  },
  {
   "cell_type": "markdown",
   "id": "c31e558c-0c7b-445c-8210-52bd04fc0dd7",
   "metadata": {},
   "source": [
    "### 使用 Pipeline API 部署微调后 Whisper 实现中文语音识别任务"
   ]
  },
  {
   "cell_type": "code",
   "execution_count": 32,
   "id": "18181692-a143-44ee-b56c-e754d308e0ec",
   "metadata": {
    "execution": {
     "iopub.execute_input": "2024-03-06T19:09:11.483072Z",
     "iopub.status.busy": "2024-03-06T19:09:11.482866Z",
     "iopub.status.idle": "2024-03-06T19:09:11.486403Z",
     "shell.execute_reply": "2024-03-06T19:09:11.485789Z"
    }
   },
   "outputs": [],
   "source": [
    "test_audio = \"data/audio/test_zh.flac\""
   ]
  },
  {
   "cell_type": "code",
   "execution_count": 33,
   "id": "9d494647-082c-4e48-9486-7945618ae679",
   "metadata": {
    "execution": {
     "iopub.execute_input": "2024-03-06T19:09:11.488829Z",
     "iopub.status.busy": "2024-03-06T19:09:11.488645Z",
     "iopub.status.idle": "2024-03-06T19:09:11.516818Z",
     "shell.execute_reply": "2024-03-06T19:09:11.515855Z"
    }
   },
   "outputs": [],
   "source": [
    "from transformers import AutomaticSpeechRecognitionPipeline\n",
    "\n",
    "pipeline = AutomaticSpeechRecognitionPipeline(model=peft_model, tokenizer=tokenizer, feature_extractor=feature_extractor)\n",
    "\n",
    "forced_decoder_ids = processor.get_decoder_prompt_ids(language=language_decode, task=task)"
   ]
  },
  {
   "cell_type": "code",
   "execution_count": 34,
   "id": "90da1707-9054-416f-b0b6-a6203f8d3285",
   "metadata": {
    "execution": {
     "iopub.execute_input": "2024-03-06T19:09:11.520673Z",
     "iopub.status.busy": "2024-03-06T19:09:11.520490Z",
     "iopub.status.idle": "2024-03-06T19:09:15.943876Z",
     "shell.execute_reply": "2024-03-06T19:09:15.943106Z"
    }
   },
   "outputs": [
    {
     "name": "stderr",
     "output_type": "stream",
     "text": [
      "/root/miniconda3/envs/llm/lib/python3.10/site-packages/bitsandbytes/autograd/_functions.py:322: UserWarning: MatMul8bitLt: inputs will be cast from torch.float32 to float16 during quantization\n",
      "  warnings.warn(f\"MatMul8bitLt: inputs will be cast from {A.dtype} to float16 during quantization\")\n",
      "Due to a bug fix in https://github.com/huggingface/transformers/pull/28687 transcription using a multilingual Whisper will default to language detection followed by transcription instead of translation to English.This might be a breaking change for your use case. If you want to instead always translate your audio to English, make sure to pass `language='en'`.\n"
     ]
    }
   ],
   "source": [
    "import torch\n",
    "\n",
    "with torch.cuda.amp.autocast():\n",
    "    text = pipeline(test_audio, max_new_tokens=255)[\"text\"]"
   ]
  },
  {
   "cell_type": "code",
   "execution_count": 35,
   "id": "89f49787-6ab4-4bc1-91b8-a1c104c9feaf",
   "metadata": {
    "execution": {
     "iopub.execute_input": "2024-03-06T19:09:15.948061Z",
     "iopub.status.busy": "2024-03-06T19:09:15.947853Z",
     "iopub.status.idle": "2024-03-06T19:09:15.952289Z",
     "shell.execute_reply": "2024-03-06T19:09:15.951722Z"
    }
   },
   "outputs": [
    {
     "data": {
      "text/plain": [
       "'这是一段测试用于Whisper Large V2模型的自动语音识别测试。'"
      ]
     },
     "execution_count": 35,
     "metadata": {},
     "output_type": "execute_result"
    }
   ],
   "source": [
    "text"
   ]
  },
  {
   "cell_type": "markdown",
   "id": "0285dd19-229e-4241-b680-71e25ab51dde",
   "metadata": {},
   "source": [
    "## Homework\n",
    "\n",
    "1. 使用完整的数据集训练，对比 Train Loss 和 Validation Loss 变化。训练完成后，使用测试集进行模型评估.\n",
    "2. [Optional]使用其他语种（如：德语、法语等）的数据集进行微调训练，并进行模型评估模型评估。"
   ]
  },
  {
   "cell_type": "code",
   "execution_count": null,
   "id": "8801650e-6666-412a-981f-1f8933d5df55",
   "metadata": {},
   "outputs": [],
   "source": []
  },
  {
   "cell_type": "code",
   "execution_count": null,
   "id": "162f79bf",
   "metadata": {},
   "outputs": [],
   "source": []
  }
 ],
 "metadata": {
  "kernelspec": {
   "display_name": "Python 3 (ipykernel)",
   "language": "python",
   "name": "python3"
  },
  "language_info": {
   "codemirror_mode": {
    "name": "ipython",
    "version": 3
   },
   "file_extension": ".py",
   "mimetype": "text/x-python",
   "name": "python",
   "nbconvert_exporter": "python",
   "pygments_lexer": "ipython3",
   "version": "3.10.8"
  }
 },
 "nbformat": 4,
 "nbformat_minor": 5
}
