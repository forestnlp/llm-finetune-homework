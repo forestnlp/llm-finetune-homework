{
 "cells": [
  {
   "cell_type": "markdown",
   "id": "90c6730f-5d76-450b-9788-ec883d024f57",
   "metadata": {},
   "source": [
    "# Hugging Face Transformers 微调训练入门\n",
    "\n",
    "本示例将介绍基于 Transformers 实现模型微调训练的主要流程，包括：\n",
    "- 数据集下载\n",
    "- 数据预处理\n",
    "- 训练超参数配置\n",
    "- 训练评估指标设置\n",
    "- 训练器基本介绍\n",
    "- 实战训练\n",
    "- 模型保存"
   ]
  },
  {
   "cell_type": "markdown",
   "id": "aa0b1e12-1921-4438-8d5d-9760a629dcfe",
   "metadata": {},
   "source": [
    "## YelpReviewFull 数据集\n",
    "\n",
    "**Hugging Face 数据集：[ YelpReviewFull ](https://huggingface.co/datasets/yelp_review_full)**\n",
    "\n",
    "### 数据集摘要\n",
    "\n",
    "Yelp评论数据集包括来自Yelp的评论。它是从Yelp Dataset Challenge 2015数据中提取的。\n",
    "\n",
    "### 支持的任务和排行榜\n",
    "文本分类、情感分类：该数据集主要用于文本分类：给定文本，预测情感。\n",
    "\n",
    "### 语言\n",
    "这些评论主要以英语编写。\n",
    "\n",
    "### 数据集结构\n",
    "\n",
    "#### 数据实例\n",
    "一个典型的数据点包括文本和相应的标签。\n",
    "\n",
    "来自YelpReviewFull测试集的示例如下：\n",
    "\n",
    "```json\n",
    "{\n",
    "    'label': 0,\n",
    "    'text': 'I got \\'new\\' tires from them and within two weeks got a flat. I took my car to a local mechanic to see if i could get the hole patched, but they said the reason I had a flat was because the previous patch had blown - WAIT, WHAT? I just got the tire and never needed to have it patched? This was supposed to be a new tire. \\\\nI took the tire over to Flynn\\'s and they told me that someone punctured my tire, then tried to patch it. So there are resentful tire slashers? I find that very unlikely. After arguing with the guy and telling him that his logic was far fetched he said he\\'d give me a new tire \\\\\"this time\\\\\". \\\\nI will never go back to Flynn\\'s b/c of the way this guy treated me and the simple fact that they gave me a used tire!'\n",
    "}\n",
    "```\n",
    "\n",
    "#### 数据字段\n",
    "\n",
    "- 'text': 评论文本使用双引号（\"）转义，任何内部双引号都通过2个双引号（\"\"）转义。换行符使用反斜杠后跟一个 \"n\" 字符转义，即 \"\\n\"。\n",
    "- 'label': 对应于评论的分数（介于1和5之间）。\n",
    "\n",
    "#### 数据拆分\n",
    "\n",
    "Yelp评论完整星级数据集是通过随机选取每个1到5星评论的130,000个训练样本和10,000个测试样本构建的。总共有650,000个训练样本和50,000个测试样本。\n",
    "\n",
    "## 下载数据集"
   ]
  },
  {
   "cell_type": "code",
   "execution_count": 1,
   "id": "7e38d970",
   "metadata": {
    "execution": {
     "iopub.execute_input": "2024-02-29T13:44:43.805812Z",
     "iopub.status.busy": "2024-02-29T13:44:43.805641Z",
     "iopub.status.idle": "2024-02-29T13:44:43.826409Z",
     "shell.execute_reply": "2024-02-29T13:44:43.825295Z"
    }
   },
   "outputs": [],
   "source": [
    "import os\n",
    "\n",
    "os.environ['HF_HOME'] = '/root/autodl-tmp/huggingface'\n",
    "os.environ['HF_DATASETS_CACHE'] = '/root/autodl-tmp/huggingface/datasets'\n",
    "os.environ['HF_HUB_CACHE'] = '/root/autodl-tmp/huggingface/hub'\n",
    "\n",
    "import subprocess\n",
    "import os\n",
    "\n",
    "result = subprocess.run('bash -c \"source /etc/network_turbo && env | grep proxy\"', shell=True, capture_output=True, text=True)\n",
    "output = result.stdout\n",
    "for line in output.splitlines():\n",
    "    if '=' in line:\n",
    "        var, value = line.split('=', 1)\n",
    "        os.environ[var] = value"
   ]
  },
  {
   "cell_type": "code",
   "execution_count": 2,
   "id": "bbf72d6c-7ea5-4ee1-969a-c5060b9cb2d4",
   "metadata": {
    "execution": {
     "iopub.execute_input": "2024-02-29T13:44:43.831887Z",
     "iopub.status.busy": "2024-02-29T13:44:43.831257Z",
     "iopub.status.idle": "2024-02-29T13:44:57.495669Z",
     "shell.execute_reply": "2024-02-29T13:44:57.494576Z"
    }
   },
   "outputs": [],
   "source": [
    "from datasets import load_dataset\n",
    "\n",
    "dataset = load_dataset(\"yelp_review_full\")"
   ]
  },
  {
   "cell_type": "code",
   "execution_count": 3,
   "id": "ec6fc806-1395-42dd-8121-a6e98a95cf01",
   "metadata": {
    "execution": {
     "iopub.execute_input": "2024-02-29T13:44:57.501561Z",
     "iopub.status.busy": "2024-02-29T13:44:57.501257Z",
     "iopub.status.idle": "2024-02-29T13:44:57.508796Z",
     "shell.execute_reply": "2024-02-29T13:44:57.508037Z"
    }
   },
   "outputs": [
    {
     "data": {
      "text/plain": [
       "DatasetDict({\n",
       "    train: Dataset({\n",
       "        features: ['label', 'text'],\n",
       "        num_rows: 650000\n",
       "    })\n",
       "    test: Dataset({\n",
       "        features: ['label', 'text'],\n",
       "        num_rows: 50000\n",
       "    })\n",
       "})"
      ]
     },
     "execution_count": 3,
     "metadata": {},
     "output_type": "execute_result"
    }
   ],
   "source": [
    "dataset"
   ]
  },
  {
   "cell_type": "code",
   "execution_count": 4,
   "id": "c94ad529-1604-48bd-8c8d-aa2f3bca6200",
   "metadata": {
    "execution": {
     "iopub.execute_input": "2024-02-29T13:44:57.517403Z",
     "iopub.status.busy": "2024-02-29T13:44:57.516569Z",
     "iopub.status.idle": "2024-02-29T13:44:57.526198Z",
     "shell.execute_reply": "2024-02-29T13:44:57.524888Z"
    }
   },
   "outputs": [
    {
     "data": {
      "text/plain": [
       "{'label': 4,\n",
       " 'text': 'I ate a taco here in the snow. IN THE SNOW! I\\'ve eaten a taco here sweating my bum off. I\\\\\"ve eaten a taco standing up because there\\'s no tables. This taco stand is so amazing that I\\'ll pretty much eat a taco here during a hurricane....if those happened in western PA! \\\\n\\\\nDoes this not show my true devotion to these tasty little taco\\'s! Ok, I lied. I like them so much I just do it up big and get a burrito. It\\'s just a magic mixture of rice, cheese, salsa and lots and lots of lime. I\\'m into the shrimp burrito because i love me some shrimp. But really, any type of meat or a veggie choice is going to be awesome. Plus they are cheap cheap cheap! \\\\n\\\\nDo me a favor and stop by this stand while you\\'re out shopping in the strip, you will not regret it. Rain, snow or sunshine!'}"
      ]
     },
     "execution_count": 4,
     "metadata": {},
     "output_type": "execute_result"
    }
   ],
   "source": [
    "dataset[\"train\"][2222]"
   ]
  },
  {
   "cell_type": "code",
   "execution_count": 5,
   "id": "6dc45997-e391-456f-b0b9-d3193b0f6a9d",
   "metadata": {
    "execution": {
     "iopub.execute_input": "2024-02-29T13:44:57.533556Z",
     "iopub.status.busy": "2024-02-29T13:44:57.532752Z",
     "iopub.status.idle": "2024-02-29T13:44:57.538438Z",
     "shell.execute_reply": "2024-02-29T13:44:57.537690Z"
    }
   },
   "outputs": [],
   "source": [
    "import random\n",
    "import pandas as pd\n",
    "import datasets\n",
    "from IPython.display import display, HTML"
   ]
  },
  {
   "cell_type": "code",
   "execution_count": 6,
   "id": "9e2ecebb-d5d1-456d-967c-842a79fdd622",
   "metadata": {
    "execution": {
     "iopub.execute_input": "2024-02-29T13:44:57.541282Z",
     "iopub.status.busy": "2024-02-29T13:44:57.541087Z",
     "iopub.status.idle": "2024-02-29T13:44:57.546589Z",
     "shell.execute_reply": "2024-02-29T13:44:57.545947Z"
    }
   },
   "outputs": [],
   "source": [
    "def show_random_elements(dataset, num_examples=10):\n",
    "    assert num_examples <= len(dataset), \"Can't pick more elements than there are in the dataset.\"\n",
    "    picks = []\n",
    "    for _ in range(num_examples):\n",
    "        pick = random.randint(0, len(dataset)-1)\n",
    "        while pick in picks:\n",
    "            pick = random.randint(0, len(dataset)-1)\n",
    "        picks.append(pick)\n",
    "    \n",
    "    df = pd.DataFrame(dataset[picks])\n",
    "    for column, typ in dataset.features.items():\n",
    "        if isinstance(typ, datasets.ClassLabel):\n",
    "            df[column] = df[column].transform(lambda i: typ.names[i])\n",
    "    display(HTML(df.to_html()))"
   ]
  },
  {
   "cell_type": "code",
   "execution_count": 7,
   "id": "1af560b6-7d21-499e-9b82-114be371a98a",
   "metadata": {
    "execution": {
     "iopub.execute_input": "2024-02-29T13:44:57.549146Z",
     "iopub.status.busy": "2024-02-29T13:44:57.548954Z",
     "iopub.status.idle": "2024-02-29T13:44:57.556703Z",
     "shell.execute_reply": "2024-02-29T13:44:57.556075Z"
    }
   },
   "outputs": [
    {
     "data": {
      "text/html": [
       "<table border=\"1\" class=\"dataframe\">\n",
       "  <thead>\n",
       "    <tr style=\"text-align: right;\">\n",
       "      <th></th>\n",
       "      <th>label</th>\n",
       "      <th>text</th>\n",
       "    </tr>\n",
       "  </thead>\n",
       "  <tbody>\n",
       "    <tr>\n",
       "      <th>0</th>\n",
       "      <td>1 star</td>\n",
       "      <td>And now I get to write my very first negative review. Much like with my first review, I thought for a bit about who I'd rant about first, and it had to be El Hefe.....so where to begin?\\n\\nWhen you're inside the atmosphere and ambience is about as welcoming as I'd imagine the inside of one of the breast implants of their servers would be (you know, large, inflated, empty, and possibly a little gooey). The one time I went I believe we waited about an hour from asking for our check, waiting for our waitress to figure out how to split it up as we asked, and then royally effing it up in the end anyway (yeah, I know that can be annoying, but if arithmetic isn't your strong suit, just tell us - it's not your fault that the blood isn't flowing to your brain at the correct speed because it was thwarted at the Hoover-like circulation dam that are your boobs....well actually that is your fault, but still we won't hold it against you). The tacos aren't good, the drinks are over-priced, it's full of your typical Scottsdale douchebags, whose unfortunate existence ensure that the type of waitresses that populate these types of bars continue to get hired, and its in the middle of a bunch of better options.\\n\\nAlso, they should really spell Jefe right.</td>\n",
       "    </tr>\n",
       "    <tr>\n",
       "      <th>1</th>\n",
       "      <td>2 star</td>\n",
       "      <td>We were so excited to come to Wicked Spoon because we read so many good reviews and raves from our friends.\\n\\nBig disappointment. The wait wasn't even a big deal (they seat first come first serve, not by party size, so we waited for almost an hour for a table for 2). The food selection was very large and impressive, but the actual taste of the food was so mediocre. I give them kudos for all the cool unique combinations and fusions they came up with (Sriracha watermelon, anyone?) However, most of the other dishes were just too salty or spiced an incorrect amount. (Avoid the Chinese food, if you can even call it that). \\n\\nIn the end, I filled myself up with the mushroom pasta, which came in a cool metal ladle, and the steak. The rest of the items were just disappointing. \\n\\nThe dessert selection, I will admit, is amazing. Most of the dessert items I tried were quite good. \\n\\nI wouldn't go back for the price of $41/person.</td>\n",
       "    </tr>\n",
       "    <tr>\n",
       "      <th>2</th>\n",
       "      <td>1 star</td>\n",
       "      <td>the food is not really good, and they do an 18% automated tip, careful!! I would not recommend this place.</td>\n",
       "    </tr>\n",
       "    <tr>\n",
       "      <th>3</th>\n",
       "      <td>5 stars</td>\n",
       "      <td>this is where i go for bbq in phx!!!\\n\\nmy family loves going here.  we have gone in small and large groups.  they are very accommodating.  even with reservations it takes awhile to be seated.  eventhough there is a lot of seating this restaurant is always busy.  they even have private rooms.  the restaurant is very nice inside and the customers are even dress real nice.  looks kinda weird seeing folks dress professional in a bbq joint.  if busy the parking kinda sucks.\\n\\nthe food is awesome!  everything that my family has tried as been awesome.  the corn bread and honey butter is delicious!  the ribs, steak, chicken, grilled salmon, salads, fries, it's all good!\\n\\nthe servers seem to do a great job and never had one problem.  great job!\\n\\ni hope you enjoy this place because i do!</td>\n",
       "    </tr>\n",
       "    <tr>\n",
       "      <th>4</th>\n",
       "      <td>5 stars</td>\n",
       "      <td>I am with Gabi:) I have been a member here for 10 years.  This is a family gym with lots of activities for all ages, shapes and fitness levels.  The staff is exceptional and very friendly.  This is more like a resort than a gym...</td>\n",
       "    </tr>\n",
       "    <tr>\n",
       "      <th>5</th>\n",
       "      <td>4 stars</td>\n",
       "      <td>We sort of stumbled upon this place which is off the strip and so glad we did!  We started with the Tritata Salad, I loved the flavor dimensions of the salad and you can never go wrong with crispy pancetta!  \\nWe also had 2 Pasta dishes, both better than the other.  Porcini Pappardelle con Ragu di Cinghiale (pasta with boar meat sauce).  This was so wonderful.  A truly hearty and filling dish with so much flavor.  Our 2nd, Bucatini Carbonara e Tartufio Nero.  All I can say is this was the best Carbonara I have ever had!  This is a place I would love to go to again and again.  \\nService was very good.  Server, Paulo was very knowledge and efficient.</td>\n",
       "    </tr>\n",
       "    <tr>\n",
       "      <th>6</th>\n",
       "      <td>2 star</td>\n",
       "      <td>The first thing that pops into my mind is the bathroom door in the room.  I'm not sure how else to say this, but...it's glass.  The bathroom door is made of glass.  You know, the stuff you make things out of when you want to be able to see through them.  \\\"Bathroom doors\\\" would not be on my list of things you want to be able to see through.  Granted, they're textured glass, but you can still see a clear outline of anybody in the shower (the shower doors are clear glass), at the sink, on the toilet, etc.\\n\\nThe rooms are quite tiny.  Fine for two people staying for a single night, as we were, but it would have been a problem for a longer stay.\\n\\nThe walls are not insulated for sound well at all, particularly between the rooms and the hallway.\\n\\nThe parking situation is bad.  The valet attendants didn't even know if they had a self-service garage or not.  Apparently they do, but good luck finding it.  We parked in a different garage a couple of blocks away.\\n\\nA premium hotel like this should have a better shuttle system.\\n\\nA premium hotel should have better service in general, e.g. we waited for 5-10 minutes each time we needed to talk to somebody at the front desk.\\n\\nThe reasons it doesn't get only 1 star are 1) the beds are like sleeping in heaven, 2) the view from our room was pretty spectacular, largely because 3) the location is awesome.  The negatives easily outweigh those positives, though.  I will certainly not be staying here again.</td>\n",
       "    </tr>\n",
       "    <tr>\n",
       "      <th>7</th>\n",
       "      <td>5 stars</td>\n",
       "      <td>AMAZING!! Being from the Philly area and growing up eating and loving Philly cheesesteaks nothing ever compared out here.... Until we found this place. Phenomenal cheesesteak with cheese wiz is the way too go. Though all of the different ways are phenomenal! The sweet potato fries are great. And the fry sauce (I always did this after a friend of mine moved from Utah why we were kids). I find excuses to drive to Tempe just to get a cheesesteak. Must go!! Love this place</td>\n",
       "    </tr>\n",
       "    <tr>\n",
       "      <th>8</th>\n",
       "      <td>2 star</td>\n",
       "      <td>One word to describe my experience tonight at dinner?  Blah.  Nothing was special about anything I ate there.  I did the restaurant week menu which, for me, included a Caesar salad, stuffed mahi mahi and creme brulee.  \\n\\nThe salad was dry and could use more dressing.  Wasn't the worst I've had but really nothing special.  Now the mahi mahi was what I really looked forward to.  Big disappointment.  There was barely any flavor to this dish.  While it was rich (stuffing had creamy consistency), I really thought about adding salt.  Yes, salt, to a seafood dish.  \\n\\nTo end the experience, I ordered the Creme Brulee.  Didn't think I could go wrong.  It literally tasted like a snack pack pudding.  It must have been pulled from a fridge and sent to the table.  There was no crunchy, caramelized sugar top.  Honestly, it was pudding with 2 blueberries and 1 raspberry thrown on top.  \\n\\nService was also disappointing.  We went on a Sunday evening and there were maybe 4 other tables taken in the whole place.  After we finished our dessert we waited and waited for our server.  I actually had to get up and ask another waiter to get her.  \\n\\nNot sure why people love this place.  I wasn't feeling it!</td>\n",
       "    </tr>\n",
       "    <tr>\n",
       "      <th>9</th>\n",
       "      <td>5 stars</td>\n",
       "      <td>My Favorite place, so much better than the Litchfield location...   Love the food, service is fair.  This place does get busy though.</td>\n",
       "    </tr>\n",
       "  </tbody>\n",
       "</table>"
      ],
      "text/plain": [
       "<IPython.core.display.HTML object>"
      ]
     },
     "metadata": {},
     "output_type": "display_data"
    }
   ],
   "source": [
    "show_random_elements(dataset[\"train\"])"
   ]
  },
  {
   "cell_type": "markdown",
   "id": "c9df7cd0-23cd-458f-b2b5-f025c3b9fe62",
   "metadata": {},
   "source": [
    "## 预处理数据\n",
    "\n",
    "下载数据集到本地后，使用 Tokenizer 来处理文本，对于长度不等的输入数据，可以使用填充（padding）和截断（truncation）策略来处理。\n",
    "\n",
    "Datasets 的 `map` 方法，支持一次性在整个数据集上应用预处理函数。\n",
    "\n",
    "下面使用填充到最大长度的策略，处理整个数据集："
   ]
  },
  {
   "cell_type": "code",
   "execution_count": 8,
   "id": "8bf2b342-e1dd-4ab6-ad57-28eb2513ae38",
   "metadata": {
    "execution": {
     "iopub.execute_input": "2024-02-29T13:44:57.559562Z",
     "iopub.status.busy": "2024-02-29T13:44:57.559371Z",
     "iopub.status.idle": "2024-02-29T13:44:59.588333Z",
     "shell.execute_reply": "2024-02-29T13:44:59.587050Z"
    }
   },
   "outputs": [],
   "source": [
    "from transformers import AutoTokenizer\n",
    "\n",
    "tokenizer = AutoTokenizer.from_pretrained(\"bert-base-cased\")\n",
    "\n",
    "\n",
    "def tokenize_function(examples):\n",
    "    return tokenizer(examples[\"text\"], padding=\"max_length\", truncation=True)\n",
    "\n",
    "\n",
    "tokenized_datasets = dataset.map(tokenize_function, batched=True)"
   ]
  },
  {
   "cell_type": "code",
   "execution_count": 9,
   "id": "47a415a8-cd15-4a8c-851b-9b4740ef8271",
   "metadata": {
    "execution": {
     "iopub.execute_input": "2024-02-29T13:44:59.593907Z",
     "iopub.status.busy": "2024-02-29T13:44:59.593659Z",
     "iopub.status.idle": "2024-02-29T13:44:59.606691Z",
     "shell.execute_reply": "2024-02-29T13:44:59.605860Z"
    }
   },
   "outputs": [
    {
     "data": {
      "text/html": [
       "<table border=\"1\" class=\"dataframe\">\n",
       "  <thead>\n",
       "    <tr style=\"text-align: right;\">\n",
       "      <th></th>\n",
       "      <th>label</th>\n",
       "      <th>text</th>\n",
       "      <th>input_ids</th>\n",
       "      <th>token_type_ids</th>\n",
       "      <th>attention_mask</th>\n",
       "    </tr>\n",
       "  </thead>\n",
       "  <tbody>\n",
       "    <tr>\n",
       "      <th>0</th>\n",
       "      <td>2 star</td>\n",
       "      <td>Ok lets just put it out there.  If your in charge of the entertainment committee and you take your group here your going to end up fired.  I sadly found this out first hand. \\n \\nUnless you have a genuine interest in dirt and mud castles this is going to hit the \\\"Boiled Cabbage\\\" mark on the rector-scale of excitement. \\n\\nI mean no disrespect to the heritage and history behind this place.  Personally the history review and time-line inside the facility caught my interest more than the actual park.  It is amazing what this group of people accomplished with very limited resources.\\n\\nBut again, if you have kids or a group of people really excited to do something thrilling, your going to lose your brownie points here.\\n\\nAlso in my opinion the cost is a bit steep for a group etc.  $5 a person for aprox 15-20 min of something to do.\\n\\nSide note:  Archaeologists please don't throw rocks at me for this review.</td>\n",
       "      <td>[101, 23330, 11446, 1198, 1508, 1122, 1149, 1175, 119, 1409, 1240, 1107, 2965, 1104, 1103, 5936, 3914, 1105, 1128, 1321, 1240, 1372, 1303, 1240, 1280, 1106, 1322, 1146, 4294, 119, 146, 17156, 1276, 1142, 1149, 1148, 1289, 119, 165, 183, 165, 183, 2591, 1179, 2008, 1128, 1138, 170, 10416, 2199, 1107, 6786, 1105, 9052, 19282, 1142, 1110, 1280, 1106, 1855, 1103, 165, 107, 9326, 11908, 140, 6639, 22070, 165, 107, 4551, 1113, 1103, 15893, 118, 3418, 1104, 8061, 119, 165, 183, 165, 183, 2240, 1928, 1185, 4267, 1116, 4894, 26426, 1106, 1103, 5900, 1105, 1607, 1481, 1142, 1282, 119, 13907, ...]</td>\n",
       "      <td>[0, 0, 0, 0, 0, 0, 0, 0, 0, 0, 0, 0, 0, 0, 0, 0, 0, 0, 0, 0, 0, 0, 0, 0, 0, 0, 0, 0, 0, 0, 0, 0, 0, 0, 0, 0, 0, 0, 0, 0, 0, 0, 0, 0, 0, 0, 0, 0, 0, 0, 0, 0, 0, 0, 0, 0, 0, 0, 0, 0, 0, 0, 0, 0, 0, 0, 0, 0, 0, 0, 0, 0, 0, 0, 0, 0, 0, 0, 0, 0, 0, 0, 0, 0, 0, 0, 0, 0, 0, 0, 0, 0, 0, 0, 0, 0, 0, 0, 0, 0, ...]</td>\n",
       "      <td>[1, 1, 1, 1, 1, 1, 1, 1, 1, 1, 1, 1, 1, 1, 1, 1, 1, 1, 1, 1, 1, 1, 1, 1, 1, 1, 1, 1, 1, 1, 1, 1, 1, 1, 1, 1, 1, 1, 1, 1, 1, 1, 1, 1, 1, 1, 1, 1, 1, 1, 1, 1, 1, 1, 1, 1, 1, 1, 1, 1, 1, 1, 1, 1, 1, 1, 1, 1, 1, 1, 1, 1, 1, 1, 1, 1, 1, 1, 1, 1, 1, 1, 1, 1, 1, 1, 1, 1, 1, 1, 1, 1, 1, 1, 1, 1, 1, 1, 1, 1, ...]</td>\n",
       "    </tr>\n",
       "  </tbody>\n",
       "</table>"
      ],
      "text/plain": [
       "<IPython.core.display.HTML object>"
      ]
     },
     "metadata": {},
     "output_type": "display_data"
    }
   ],
   "source": [
    "show_random_elements(tokenized_datasets[\"train\"], num_examples=1)"
   ]
  },
  {
   "cell_type": "markdown",
   "id": "1c33d153-f729-4f04-972c-a764c1cbbb8b",
   "metadata": {},
   "source": [
    "### 数据抽样\n",
    "\n",
    "使用 1000 个数据样本，在 BERT 上演示小规模训练（基于 Pytorch Trainer）\n",
    "\n",
    "`shuffle()`函数会随机重新排列列的值。如果您希望对用于洗牌数据集的算法有更多控制，可以在此函数中指定generator参数来使用不同的numpy.random.Generator。"
   ]
  },
  {
   "cell_type": "code",
   "execution_count": 10,
   "id": "a17317d8-3c6a-467f-843d-87491f600db1",
   "metadata": {
    "execution": {
     "iopub.execute_input": "2024-02-29T13:44:59.610967Z",
     "iopub.status.busy": "2024-02-29T13:44:59.610436Z",
     "iopub.status.idle": "2024-02-29T13:44:59.651993Z",
     "shell.execute_reply": "2024-02-29T13:44:59.651129Z"
    }
   },
   "outputs": [],
   "source": [
    "small_train_dataset = tokenized_datasets[\"train\"].shuffle(seed=42).select(range(1000))\n",
    "small_eval_dataset = tokenized_datasets[\"test\"].shuffle(seed=42).select(range(1000))\n",
    "\n",
    "total_train_dataset = tokenized_datasets[\"train\"].shuffle(seed=42)\n",
    "total_eval_dataset = tokenized_datasets[\"test\"].shuffle(seed=42)"
   ]
  },
  {
   "cell_type": "markdown",
   "id": "d3b65d63-2d3a-4a56-bc31-6e88a29e9dec",
   "metadata": {},
   "source": [
    "## 微调训练配置\n",
    "\n",
    "### 加载 BERT 模型\n",
    "\n",
    "警告通知我们正在丢弃一些权重（`vocab_transform` 和 `vocab_layer_norm` 层），并随机初始化其他一些权重（`pre_classifier` 和 `classifier` 层）。在微调模型情况下是绝对正常的，因为我们正在删除用于预训练模型的掩码语言建模任务的头部，并用一个新的头部替换它，对于这个新头部，我们没有预训练的权重，所以库会警告我们在用它进行推理之前应该对这个模型进行微调，而这正是我们要做的事情。"
   ]
  },
  {
   "cell_type": "code",
   "execution_count": 11,
   "id": "4d2af4df-abd4-4a4b-94b6-b0e7375304ed",
   "metadata": {
    "execution": {
     "iopub.execute_input": "2024-02-29T13:44:59.657099Z",
     "iopub.status.busy": "2024-02-29T13:44:59.656860Z",
     "iopub.status.idle": "2024-02-29T13:45:01.104855Z",
     "shell.execute_reply": "2024-02-29T13:45:01.103429Z"
    }
   },
   "outputs": [
    {
     "name": "stderr",
     "output_type": "stream",
     "text": [
      "Some weights of BertForSequenceClassification were not initialized from the model checkpoint at bert-base-cased and are newly initialized: ['classifier.bias', 'classifier.weight']\n",
      "You should probably TRAIN this model on a down-stream task to be able to use it for predictions and inference.\n"
     ]
    }
   ],
   "source": [
    "from transformers import AutoModelForSequenceClassification\n",
    "\n",
    "model = AutoModelForSequenceClassification.from_pretrained(\"bert-base-cased\", num_labels=5)"
   ]
  },
  {
   "cell_type": "markdown",
   "id": "b44014df-b52c-4c72-9e9f-54424725a473",
   "metadata": {},
   "source": [
    "### 训练超参数（TrainingArguments）\n",
    "\n",
    "完整配置参数与默认值：https://huggingface.co/docs/transformers/v4.36.1/en/main_classes/trainer#transformers.TrainingArguments\n",
    "\n",
    "源代码定义：https://github.com/huggingface/transformers/blob/v4.36.1/src/transformers/training_args.py#L161\n",
    "\n",
    "**最重要配置：模型权重保存路径(output_dir)**"
   ]
  },
  {
   "cell_type": "code",
   "execution_count": 12,
   "id": "98c01d5c-de72-4ff0-b11d-e07ac5346888",
   "metadata": {
    "execution": {
     "iopub.execute_input": "2024-02-29T13:45:01.112086Z",
     "iopub.status.busy": "2024-02-29T13:45:01.111153Z",
     "iopub.status.idle": "2024-02-29T13:45:01.267117Z",
     "shell.execute_reply": "2024-02-29T13:45:01.265747Z"
    }
   },
   "outputs": [],
   "source": [
    "from transformers import TrainingArguments\n",
    "\n",
    "model_dir = \"/root/autodl-tmp/run/models/bert-base-cased-finetune-yelp\"\n",
    "\n",
    "# logging_steps 默认值为500，根据我们的训练数据和步长，将其设置为100\n",
    "training_args = TrainingArguments(output_dir=model_dir,\n",
    "                                  per_device_train_batch_size=16,\n",
    "                                  num_train_epochs=5,\n",
    "                                  logging_steps=100)"
   ]
  },
  {
   "cell_type": "code",
   "execution_count": 13,
   "id": "0ce03480-3aaa-48ea-a0c6-a177b8d8e34f",
   "metadata": {
    "execution": {
     "iopub.execute_input": "2024-02-29T13:45:01.272015Z",
     "iopub.status.busy": "2024-02-29T13:45:01.271762Z",
     "iopub.status.idle": "2024-02-29T13:45:01.278067Z",
     "shell.execute_reply": "2024-02-29T13:45:01.277012Z"
    }
   },
   "outputs": [
    {
     "name": "stdout",
     "output_type": "stream",
     "text": [
      "TrainingArguments(\n",
      "_n_gpu=1,\n",
      "accelerator_config={'split_batches': False, 'dispatch_batches': None, 'even_batches': True, 'use_seedable_sampler': True},\n",
      "adafactor=False,\n",
      "adam_beta1=0.9,\n",
      "adam_beta2=0.999,\n",
      "adam_epsilon=1e-08,\n",
      "auto_find_batch_size=False,\n",
      "bf16=False,\n",
      "bf16_full_eval=False,\n",
      "data_seed=None,\n",
      "dataloader_drop_last=False,\n",
      "dataloader_num_workers=0,\n",
      "dataloader_persistent_workers=False,\n",
      "dataloader_pin_memory=True,\n",
      "dataloader_prefetch_factor=None,\n",
      "ddp_backend=None,\n",
      "ddp_broadcast_buffers=None,\n",
      "ddp_bucket_cap_mb=None,\n",
      "ddp_find_unused_parameters=None,\n",
      "ddp_timeout=1800,\n",
      "debug=[],\n",
      "deepspeed=None,\n",
      "disable_tqdm=False,\n",
      "dispatch_batches=None,\n",
      "do_eval=False,\n",
      "do_predict=False,\n",
      "do_train=False,\n",
      "eval_accumulation_steps=None,\n",
      "eval_delay=0,\n",
      "eval_steps=None,\n",
      "evaluation_strategy=no,\n",
      "fp16=False,\n",
      "fp16_backend=auto,\n",
      "fp16_full_eval=False,\n",
      "fp16_opt_level=O1,\n",
      "fsdp=[],\n",
      "fsdp_config={'min_num_params': 0, 'xla': False, 'xla_fsdp_v2': False, 'xla_fsdp_grad_ckpt': False},\n",
      "fsdp_min_num_params=0,\n",
      "fsdp_transformer_layer_cls_to_wrap=None,\n",
      "full_determinism=False,\n",
      "gradient_accumulation_steps=1,\n",
      "gradient_checkpointing=False,\n",
      "gradient_checkpointing_kwargs=None,\n",
      "greater_is_better=None,\n",
      "group_by_length=False,\n",
      "half_precision_backend=auto,\n",
      "hub_always_push=False,\n",
      "hub_model_id=None,\n",
      "hub_private_repo=False,\n",
      "hub_strategy=every_save,\n",
      "hub_token=<HUB_TOKEN>,\n",
      "ignore_data_skip=False,\n",
      "include_inputs_for_metrics=False,\n",
      "include_num_input_tokens_seen=False,\n",
      "include_tokens_per_second=False,\n",
      "jit_mode_eval=False,\n",
      "label_names=None,\n",
      "label_smoothing_factor=0.0,\n",
      "learning_rate=5e-05,\n",
      "length_column_name=length,\n",
      "load_best_model_at_end=False,\n",
      "local_rank=0,\n",
      "log_level=passive,\n",
      "log_level_replica=warning,\n",
      "log_on_each_node=True,\n",
      "logging_dir=/root/autodl-tmp/run/models/bert-base-cased-finetune-yelp/runs/Feb29_21-45-01_autodl-container-93544080dd-1059cb1f,\n",
      "logging_first_step=False,\n",
      "logging_nan_inf_filter=True,\n",
      "logging_steps=100,\n",
      "logging_strategy=steps,\n",
      "lr_scheduler_kwargs={},\n",
      "lr_scheduler_type=linear,\n",
      "max_grad_norm=1.0,\n",
      "max_steps=-1,\n",
      "metric_for_best_model=None,\n",
      "mp_parameters=,\n",
      "neftune_noise_alpha=None,\n",
      "no_cuda=False,\n",
      "num_train_epochs=5,\n",
      "optim=adamw_torch,\n",
      "optim_args=None,\n",
      "output_dir=/root/autodl-tmp/run/models/bert-base-cased-finetune-yelp,\n",
      "overwrite_output_dir=False,\n",
      "past_index=-1,\n",
      "per_device_eval_batch_size=8,\n",
      "per_device_train_batch_size=16,\n",
      "prediction_loss_only=False,\n",
      "push_to_hub=False,\n",
      "push_to_hub_model_id=None,\n",
      "push_to_hub_organization=None,\n",
      "push_to_hub_token=<PUSH_TO_HUB_TOKEN>,\n",
      "ray_scope=last,\n",
      "remove_unused_columns=True,\n",
      "report_to=[],\n",
      "resume_from_checkpoint=None,\n",
      "run_name=/root/autodl-tmp/run/models/bert-base-cased-finetune-yelp,\n",
      "save_on_each_node=False,\n",
      "save_only_model=False,\n",
      "save_safetensors=True,\n",
      "save_steps=500,\n",
      "save_strategy=steps,\n",
      "save_total_limit=None,\n",
      "seed=42,\n",
      "skip_memory_metrics=True,\n",
      "split_batches=None,\n",
      "tf32=None,\n",
      "torch_compile=False,\n",
      "torch_compile_backend=None,\n",
      "torch_compile_mode=None,\n",
      "torchdynamo=None,\n",
      "tpu_metrics_debug=False,\n",
      "tpu_num_cores=None,\n",
      "use_cpu=False,\n",
      "use_ipex=False,\n",
      "use_legacy_prediction_loop=False,\n",
      "use_mps_device=False,\n",
      "warmup_ratio=0.0,\n",
      "warmup_steps=0,\n",
      "weight_decay=0.0,\n",
      ")\n"
     ]
    }
   ],
   "source": [
    "# 完整的超参数配置\n",
    "print(training_args)"
   ]
  },
  {
   "cell_type": "markdown",
   "id": "7ebd3365-d359-4ab4-a300-4717590cc240",
   "metadata": {},
   "source": [
    "### 训练过程中的指标评估（Evaluate)\n",
    "\n",
    "**[Hugging Face Evaluate 库](https://huggingface.co/docs/evaluate/index)** 支持使用一行代码，获得数十种不同领域（自然语言处理、计算机视觉、强化学习等）的评估方法。 当前支持 **完整评估指标：https://huggingface.co/evaluate-metric**\n",
    "\n",
    "训练器（Trainer）在训练过程中不会自动评估模型性能。因此，我们需要向训练器传递一个函数来计算和报告指标。 \n",
    "\n",
    "Evaluate库提供了一个简单的准确率函数，您可以使用`evaluate.load`函数加载"
   ]
  },
  {
   "cell_type": "code",
   "execution_count": 14,
   "id": "2a8ef138-5bf2-41e5-8c68-df8e11f4e98f",
   "metadata": {
    "execution": {
     "iopub.execute_input": "2024-02-29T13:45:01.282229Z",
     "iopub.status.busy": "2024-02-29T13:45:01.282026Z",
     "iopub.status.idle": "2024-02-29T13:45:08.695174Z",
     "shell.execute_reply": "2024-02-29T13:45:08.693716Z"
    }
   },
   "outputs": [],
   "source": [
    "import numpy as np\n",
    "import evaluate\n",
    "\n",
    "metric = evaluate.load(\"accuracy\")"
   ]
  },
  {
   "cell_type": "markdown",
   "id": "70d406c0-56d0-4a54-9c6c-e126ab7f5254",
   "metadata": {},
   "source": [
    "\n",
    "接着，调用 `compute` 函数来计算预测的准确率。\n",
    "\n",
    "在将预测传递给 compute 函数之前，我们需要将 logits 转换为预测值（**所有Transformers 模型都返回 logits**）。"
   ]
  },
  {
   "cell_type": "code",
   "execution_count": 15,
   "id": "f46d2e59-1ebf-43d2-bc86-6b57a4d24d19",
   "metadata": {
    "execution": {
     "iopub.execute_input": "2024-02-29T13:45:08.701759Z",
     "iopub.status.busy": "2024-02-29T13:45:08.700885Z",
     "iopub.status.idle": "2024-02-29T13:45:08.707474Z",
     "shell.execute_reply": "2024-02-29T13:45:08.706204Z"
    }
   },
   "outputs": [],
   "source": [
    "def compute_metrics(eval_pred):\n",
    "    logits, labels = eval_pred\n",
    "    predictions = np.argmax(logits, axis=-1)\n",
    "    return metric.compute(predictions=predictions, references=labels)"
   ]
  },
  {
   "cell_type": "markdown",
   "id": "e2feba67-9ca9-4793-9a15-3eaa426df2a1",
   "metadata": {},
   "source": [
    "#### 训练过程指标监控\n",
    "\n",
    "通常，为了监控训练过程中的评估指标变化，我们可以在`TrainingArguments`指定`evaluation_strategy`参数，以便在 epoch 结束时报告评估指标。"
   ]
  },
  {
   "cell_type": "code",
   "execution_count": 16,
   "id": "afaaee18-4986-4e39-8ad9-b8d413ab4cd1",
   "metadata": {
    "execution": {
     "iopub.execute_input": "2024-02-29T13:45:08.716695Z",
     "iopub.status.busy": "2024-02-29T13:45:08.715786Z",
     "iopub.status.idle": "2024-02-29T13:45:09.049052Z",
     "shell.execute_reply": "2024-02-29T13:45:09.048042Z"
    }
   },
   "outputs": [],
   "source": [
    "from transformers import TrainingArguments, Trainer\n",
    "\n",
    "training_args = TrainingArguments(output_dir=model_dir,\n",
    "                                  evaluation_strategy=\"epoch\", \n",
    "                                  per_device_train_batch_size=32,\n",
    "                                  num_train_epochs=4,\n",
    "                                  save_steps=20000,\n",
    "                                  logging_steps=10000)"
   ]
  },
  {
   "cell_type": "markdown",
   "id": "d47d6981-e444-4c0f-a7cb-dd7f2ba8df12",
   "metadata": {},
   "source": [
    "## 开始训练\n",
    "\n",
    "### 实例化训练器（Trainer）\n",
    "\n",
    "`kernel version` 版本问题：暂不影响本示例代码运行"
   ]
  },
  {
   "cell_type": "code",
   "execution_count": 17,
   "id": "ca1d12ac-89dc-4c30-8282-f859724c0062",
   "metadata": {
    "execution": {
     "iopub.execute_input": "2024-02-29T13:45:09.054660Z",
     "iopub.status.busy": "2024-02-29T13:45:09.054403Z",
     "iopub.status.idle": "2024-02-29T13:45:09.289994Z",
     "shell.execute_reply": "2024-02-29T13:45:09.288670Z"
    }
   },
   "outputs": [],
   "source": [
    "trainer = Trainer(\n",
    "    model=model,\n",
    "    args=training_args,\n",
    "#    train_dataset=small_train_dataset,\n",
    "#    eval_dataset=small_eval_dataset,\n",
    "    train_dataset=total_train_dataset,\n",
    "    eval_dataset=total_eval_dataset,\n",
    "    compute_metrics=compute_metrics,\n",
    ")"
   ]
  },
  {
   "cell_type": "markdown",
   "id": "a833e0db-1168-4a3c-8b75-bfdcef8c5157",
   "metadata": {},
   "source": [
    "## 使用 nvidia-smi 查看 GPU 使用\n",
    "\n",
    "为了实时查看GPU使用情况，可以使用 `watch` 指令实现轮询：`watch -n 1 nvidia-smi`:\n",
    "\n",
    "```shell\n",
    "Every 1.0s: nvidia-smi                                                   Wed Dec 20 14:37:41 2023\n",
    "\n",
    "Wed Dec 20 14:37:41 2023\n",
    "+---------------------------------------------------------------------------------------+\n",
    "| NVIDIA-SMI 535.129.03             Driver Version: 535.129.03   CUDA Version: 12.2     |\n",
    "|-----------------------------------------+----------------------+----------------------+\n",
    "| GPU  Name                 Persistence-M | Bus-Id        Disp.A | Volatile Uncorr. ECC |\n",
    "| Fan  Temp   Perf          Pwr:Usage/Cap |         Memory-Usage | GPU-Util  Compute M. |\n",
    "|                                         |                      |               MIG M. |\n",
    "|=========================================+======================+======================|\n",
    "|   0  Tesla T4                       Off | 00000000:00:0D.0 Off |                    0 |\n",
    "| N/A   64C    P0              69W /  70W |   6665MiB / 15360MiB |     98%      Default |\n",
    "|                                         |                      |                  N/A |\n",
    "+-----------------------------------------+----------------------+----------------------+\n",
    "\n",
    "+---------------------------------------------------------------------------------------+\n",
    "| Processes:                                                                            |\n",
    "|  GPU   GI   CI        PID   Type   Process name                            GPU Memory |\n",
    "|        ID   ID                                                             Usage      |\n",
    "|=======================================================================================|\n",
    "|    0   N/A  N/A     18395      C   /root/miniconda3/bin/python                6660MiB |\n",
    "+---------------------------------------------------------------------------------------+\n",
    "```"
   ]
  },
  {
   "cell_type": "code",
   "execution_count": 18,
   "id": "accfe921-471d-481a-96da-c491cdebad0c",
   "metadata": {
    "execution": {
     "iopub.execute_input": "2024-02-29T13:45:09.295174Z",
     "iopub.status.busy": "2024-02-29T13:45:09.294910Z",
     "iopub.status.idle": "2024-02-29T23:45:25.582912Z",
     "shell.execute_reply": "2024-02-29T23:45:25.581989Z"
    }
   },
   "outputs": [
    {
     "data": {
      "text/html": [
       "\n",
       "    <div>\n",
       "      \n",
       "      <progress value='81252' max='81252' style='width:300px; height:20px; vertical-align: middle;'></progress>\n",
       "      [81252/81252 10:00:14, Epoch 4/4]\n",
       "    </div>\n",
       "    <table border=\"1\" class=\"dataframe\">\n",
       "  <thead>\n",
       " <tr style=\"text-align: left;\">\n",
       "      <th>Epoch</th>\n",
       "      <th>Training Loss</th>\n",
       "      <th>Validation Loss</th>\n",
       "      <th>Accuracy</th>\n",
       "    </tr>\n",
       "  </thead>\n",
       "  <tbody>\n",
       "    <tr>\n",
       "      <td>1</td>\n",
       "      <td>0.755300</td>\n",
       "      <td>0.731576</td>\n",
       "      <td>0.678860</td>\n",
       "    </tr>\n",
       "    <tr>\n",
       "      <td>2</td>\n",
       "      <td>0.681400</td>\n",
       "      <td>0.714308</td>\n",
       "      <td>0.687840</td>\n",
       "    </tr>\n",
       "    <tr>\n",
       "      <td>3</td>\n",
       "      <td>0.594700</td>\n",
       "      <td>0.723247</td>\n",
       "      <td>0.691420</td>\n",
       "    </tr>\n",
       "    <tr>\n",
       "      <td>4</td>\n",
       "      <td>0.479800</td>\n",
       "      <td>0.815226</td>\n",
       "      <td>0.686800</td>\n",
       "    </tr>\n",
       "  </tbody>\n",
       "</table><p>"
      ],
      "text/plain": [
       "<IPython.core.display.HTML object>"
      ]
     },
     "metadata": {},
     "output_type": "display_data"
    },
    {
     "data": {
      "text/plain": [
       "TrainOutput(global_step=81252, training_loss=0.6388625328669795, metrics={'train_runtime': 36016.0362, 'train_samples_per_second': 72.19, 'train_steps_per_second': 2.256, 'total_flos': 6.841071704064e+17, 'train_loss': 0.6388625328669795, 'epoch': 4.0})"
      ]
     },
     "execution_count": 18,
     "metadata": {},
     "output_type": "execute_result"
    }
   ],
   "source": [
    "trainer.train()"
   ]
  },
  {
   "cell_type": "code",
   "execution_count": 19,
   "id": "6d581099-37a4-4470-b051-1ada38554089",
   "metadata": {
    "execution": {
     "iopub.execute_input": "2024-02-29T23:45:25.586833Z",
     "iopub.status.busy": "2024-02-29T23:45:25.586538Z",
     "iopub.status.idle": "2024-02-29T23:45:25.599998Z",
     "shell.execute_reply": "2024-02-29T23:45:25.599203Z"
    }
   },
   "outputs": [],
   "source": [
    "small_test_dataset = tokenized_datasets[\"test\"].shuffle(seed=64).select(range(100))\n",
    "total_test_dataset = tokenized_datasets[\"test\"].shuffle(seed=64)"
   ]
  },
  {
   "cell_type": "code",
   "execution_count": 20,
   "id": "ffb47eab-1370-491e-8a84-6d5347a350b2",
   "metadata": {
    "execution": {
     "iopub.execute_input": "2024-02-29T23:45:25.604076Z",
     "iopub.status.busy": "2024-02-29T23:45:25.603838Z",
     "iopub.status.idle": "2024-02-29T23:50:00.205746Z",
     "shell.execute_reply": "2024-02-29T23:50:00.204705Z"
    }
   },
   "outputs": [
    {
     "data": {
      "text/html": [
       "\n",
       "    <div>\n",
       "      \n",
       "      <progress value='6250' max='6250' style='width:300px; height:20px; vertical-align: middle;'></progress>\n",
       "      [6250/6250 04:34]\n",
       "    </div>\n",
       "    "
      ],
      "text/plain": [
       "<IPython.core.display.HTML object>"
      ]
     },
     "metadata": {},
     "output_type": "display_data"
    },
    {
     "data": {
      "text/plain": [
       "{'eval_loss': 0.8152263164520264,\n",
       " 'eval_accuracy': 0.6868,\n",
       " 'eval_runtime': 274.591,\n",
       " 'eval_samples_per_second': 182.089,\n",
       " 'eval_steps_per_second': 22.761,\n",
       " 'epoch': 4.0}"
      ]
     },
     "execution_count": 20,
     "metadata": {},
     "output_type": "execute_result"
    }
   ],
   "source": [
    "trainer.evaluate(total_test_dataset)"
   ]
  },
  {
   "cell_type": "markdown",
   "id": "27a55686-7c43-4ab8-a5cd-0e77f14c7c52",
   "metadata": {},
   "source": [
    "### 保存模型和训练状态\n",
    "\n",
    "- 使用 `trainer.save_model` 方法保存模型，后续可以通过 from_pretrained() 方法重新加载\n",
    "- 使用 `trainer.save_state` 方法保存训练状态"
   ]
  },
  {
   "cell_type": "code",
   "execution_count": 21,
   "id": "ad0cbc14-9ef7-450f-a1a3-4f92b6486f41",
   "metadata": {
    "execution": {
     "iopub.execute_input": "2024-02-29T23:50:00.210417Z",
     "iopub.status.busy": "2024-02-29T23:50:00.209911Z",
     "iopub.status.idle": "2024-02-29T23:50:00.879898Z",
     "shell.execute_reply": "2024-02-29T23:50:00.878693Z"
    }
   },
   "outputs": [],
   "source": [
    "trainer.save_model(model_dir)"
   ]
  },
  {
   "cell_type": "code",
   "execution_count": null,
   "id": "f6e30510-0536-49d4-8e1b-43fc25272bde",
   "metadata": {},
   "outputs": [],
   "source": []
  },
  {
   "cell_type": "code",
   "execution_count": 22,
   "id": "badf5868-2847-439d-a73e-42d1cca67b5e",
   "metadata": {
    "execution": {
     "iopub.execute_input": "2024-02-29T23:50:00.885434Z",
     "iopub.status.busy": "2024-02-29T23:50:00.885230Z",
     "iopub.status.idle": "2024-02-29T23:50:00.889966Z",
     "shell.execute_reply": "2024-02-29T23:50:00.889145Z"
    }
   },
   "outputs": [],
   "source": [
    "trainer.save_state()"
   ]
  },
  {
   "cell_type": "code",
   "execution_count": null,
   "id": "8c9441ad-f65a-42b7-9016-4809c78285e9",
   "metadata": {},
   "outputs": [],
   "source": []
  },
  {
   "cell_type": "code",
   "execution_count": 23,
   "id": "fd92e35d-fed7-4ff2-aa84-27b5e29b917a",
   "metadata": {
    "execution": {
     "iopub.execute_input": "2024-02-29T23:50:00.892396Z",
     "iopub.status.busy": "2024-02-29T23:50:00.892195Z",
     "iopub.status.idle": "2024-02-29T23:50:00.894763Z",
     "shell.execute_reply": "2024-02-29T23:50:00.894247Z"
    }
   },
   "outputs": [],
   "source": [
    "# trainer.model.save_pretrained(\"./\")"
   ]
  },
  {
   "cell_type": "markdown",
   "id": "61828934-01da-4fc3-9e75-8d754c25dfbc",
   "metadata": {},
   "source": [
    "## Homework: 使用完整的 YelpReviewFull 数据集训练，看 Acc 最高能到多少"
   ]
  },
  {
   "cell_type": "code",
   "execution_count": null,
   "id": "6ee2580a-7a5a-46ae-a28b-b41e9e838eb1",
   "metadata": {},
   "outputs": [],
   "source": []
  }
 ],
 "metadata": {
  "kernelspec": {
   "display_name": "Python 3 (ipykernel)",
   "language": "python",
   "name": "python3"
  },
  "language_info": {
   "codemirror_mode": {
    "name": "ipython",
    "version": 3
   },
   "file_extension": ".py",
   "mimetype": "text/x-python",
   "name": "python",
   "nbconvert_exporter": "python",
   "pygments_lexer": "ipython3",
   "version": "3.10.8"
  }
 },
 "nbformat": 4,
 "nbformat_minor": 5
}
