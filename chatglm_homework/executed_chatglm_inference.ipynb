{
 "cells": [
  {
   "cell_type": "markdown",
   "id": "fc5bde60-1899-461d-8083-3ee04ac7c099",
   "metadata": {},
   "source": [
    "# 模型推理 - 使用 QLoRA 微调后的 ChatGLM-6B"
   ]
  },
  {
   "cell_type": "code",
   "execution_count": 1,
   "id": "b768bbb4-5482-4f8f-b09f-623b0ffb1e81",
   "metadata": {
    "execution": {
     "iopub.execute_input": "2024-03-13T10:49:31.416480Z",
     "iopub.status.busy": "2024-03-13T10:49:31.415484Z",
     "iopub.status.idle": "2024-03-13T10:49:31.446259Z",
     "shell.execute_reply": "2024-03-13T10:49:31.444912Z"
    }
   },
   "outputs": [],
   "source": [
    "import os\n",
    "\n",
    "os.environ['HF_HOME'] = '/root/autodl-tmp/huggingface'\n",
    "os.environ['HF_DATASETS_CACHE'] = '/root/autodl-tmp/huggingface/datasets'\n",
    "os.environ['HF_HUB_CACHE'] = '/root/autodl-tmp/huggingface/hub'\n",
    "\n",
    "import subprocess\n",
    "import os\n",
    "\n",
    "result = subprocess.run('bash -c \"source /etc/network_turbo && env | grep proxy\"', shell=True, capture_output=True, text=True)\n",
    "output = result.stdout\n",
    "for line in output.splitlines():\n",
    "    if '=' in line:\n",
    "        var, value = line.split('=', 1)\n",
    "        os.environ[var] = value"
   ]
  },
  {
   "cell_type": "code",
   "execution_count": 2,
   "id": "3292b88c-91f0-48d2-91a5-06b0830c7e70",
   "metadata": {
    "execution": {
     "iopub.execute_input": "2024-03-13T10:49:31.453147Z",
     "iopub.status.busy": "2024-03-13T10:49:31.452128Z",
     "iopub.status.idle": "2024-03-13T10:49:32.848166Z",
     "shell.execute_reply": "2024-03-13T10:49:32.846693Z"
    }
   },
   "outputs": [],
   "source": [
    "import torch\n",
    "from transformers import AutoModel, AutoTokenizer, BitsAndBytesConfig\n",
    "\n",
    "# 模型ID或本地路径\n",
    "model_name_or_path = 'THUDM/chatglm3-6b'"
   ]
  },
  {
   "cell_type": "code",
   "execution_count": 3,
   "id": "9f81454c-24b2-4072-ab05-b25f9b120ae6",
   "metadata": {
    "execution": {
     "iopub.execute_input": "2024-03-13T10:49:32.854453Z",
     "iopub.status.busy": "2024-03-13T10:49:32.854040Z",
     "iopub.status.idle": "2024-03-13T10:49:43.100155Z",
     "shell.execute_reply": "2024-03-13T10:49:43.099150Z"
    }
   },
   "outputs": [
    {
     "data": {
      "application/vnd.jupyter.widget-view+json": {
       "model_id": "5e4a02ffc760467fbf8c0f5909db6e7d",
       "version_major": 2,
       "version_minor": 0
      },
      "text/plain": [
       "Loading checkpoint shards:   0%|          | 0/7 [00:00<?, ?it/s]"
      ]
     },
     "metadata": {},
     "output_type": "display_data"
    }
   ],
   "source": [
    "_compute_dtype_map = {\n",
    "    'fp32': torch.float32,\n",
    "    'fp16': torch.float16,\n",
    "    'bf16': torch.bfloat16\n",
    "}\n",
    "\n",
    "# QLoRA 量化配置\n",
    "q_config = BitsAndBytesConfig(load_in_4bit=True,\n",
    "                              bnb_4bit_quant_type='nf4',\n",
    "                              bnb_4bit_use_double_quant=True,\n",
    "                              bnb_4bit_compute_dtype=_compute_dtype_map['bf16'])\n",
    "\n",
    "# 加载量化后模型(与微调的 revision 保持一致）\n",
    "base_model = AutoModel.from_pretrained(model_name_or_path,\n",
    "                                      quantization_config=q_config,\n",
    "                                      device_map='auto',\n",
    "                                      trust_remote_code=True,\n",
    "                                      revision='b098244')"
   ]
  },
  {
   "cell_type": "code",
   "execution_count": 4,
   "id": "d488846f-41bb-4fe6-9f09-0f392f3b39e6",
   "metadata": {
    "execution": {
     "iopub.execute_input": "2024-03-13T10:49:43.106250Z",
     "iopub.status.busy": "2024-03-13T10:49:43.105963Z",
     "iopub.status.idle": "2024-03-13T10:49:43.115884Z",
     "shell.execute_reply": "2024-03-13T10:49:43.114792Z"
    }
   },
   "outputs": [
    {
     "data": {
      "text/plain": [
       "ChatGLMForConditionalGeneration(\n",
       "  (transformer): ChatGLMModel(\n",
       "    (embedding): Embedding(\n",
       "      (word_embeddings): Embedding(65024, 4096)\n",
       "    )\n",
       "    (rotary_pos_emb): RotaryEmbedding()\n",
       "    (encoder): GLMTransformer(\n",
       "      (layers): ModuleList(\n",
       "        (0-27): 28 x GLMBlock(\n",
       "          (input_layernorm): RMSNorm()\n",
       "          (self_attention): SelfAttention(\n",
       "            (query_key_value): Linear4bit(in_features=4096, out_features=4608, bias=True)\n",
       "            (core_attention): CoreAttention(\n",
       "              (attention_dropout): Dropout(p=0.0, inplace=False)\n",
       "            )\n",
       "            (dense): Linear4bit(in_features=4096, out_features=4096, bias=False)\n",
       "          )\n",
       "          (post_attention_layernorm): RMSNorm()\n",
       "          (mlp): MLP(\n",
       "            (dense_h_to_4h): Linear4bit(in_features=4096, out_features=27392, bias=False)\n",
       "            (dense_4h_to_h): Linear4bit(in_features=13696, out_features=4096, bias=False)\n",
       "          )\n",
       "        )\n",
       "      )\n",
       "      (final_layernorm): RMSNorm()\n",
       "    )\n",
       "    (output_layer): Linear(in_features=4096, out_features=65024, bias=False)\n",
       "  )\n",
       ")"
      ]
     },
     "execution_count": 4,
     "metadata": {},
     "output_type": "execute_result"
    }
   ],
   "source": [
    "base_model.requires_grad_(False)\n",
    "base_model.eval()"
   ]
  },
  {
   "cell_type": "code",
   "execution_count": 5,
   "id": "7e4270e2-c827-450e-bf27-7cb43a97f8f7",
   "metadata": {
    "execution": {
     "iopub.execute_input": "2024-03-13T10:49:43.122297Z",
     "iopub.status.busy": "2024-03-13T10:49:43.122090Z",
     "iopub.status.idle": "2024-03-13T10:49:43.378029Z",
     "shell.execute_reply": "2024-03-13T10:49:43.376706Z"
    }
   },
   "outputs": [],
   "source": [
    "tokenizer = AutoTokenizer.from_pretrained(model_name_or_path,\n",
    "                                          trust_remote_code=True,\n",
    "                                          revision='b098244')"
   ]
  },
  {
   "cell_type": "markdown",
   "id": "63408b60-876e-4eda-b501-90f842cca002",
   "metadata": {},
   "source": [
    "## 使用原始 ChatGLM3-6B 模型"
   ]
  },
  {
   "cell_type": "code",
   "execution_count": 6,
   "id": "6ef405cf-7d77-41a6-a07b-c6c768ee30cf",
   "metadata": {
    "execution": {
     "iopub.execute_input": "2024-03-13T10:49:43.383760Z",
     "iopub.status.busy": "2024-03-13T10:49:43.383579Z",
     "iopub.status.idle": "2024-03-13T10:49:43.387664Z",
     "shell.execute_reply": "2024-03-13T10:49:43.386741Z"
    }
   },
   "outputs": [],
   "source": [
    "input_text = \"解释下乾卦是什么？\""
   ]
  },
  {
   "cell_type": "code",
   "execution_count": 7,
   "id": "566ed80e-828b-4105-b6e6-49de8905c991",
   "metadata": {
    "execution": {
     "iopub.execute_input": "2024-03-13T10:49:43.392926Z",
     "iopub.status.busy": "2024-03-13T10:49:43.392733Z",
     "iopub.status.idle": "2024-03-13T10:49:53.299345Z",
     "shell.execute_reply": "2024-03-13T10:49:53.297426Z"
    }
   },
   "outputs": [],
   "source": [
    "response, history = base_model.chat(tokenizer, query=input_text)"
   ]
  },
  {
   "cell_type": "code",
   "execution_count": 8,
   "id": "6cee217e-f276-4c2f-94e7-69afb6d541a6",
   "metadata": {
    "execution": {
     "iopub.execute_input": "2024-03-13T10:49:53.305674Z",
     "iopub.status.busy": "2024-03-13T10:49:53.305425Z",
     "iopub.status.idle": "2024-03-13T10:49:53.312256Z",
     "shell.execute_reply": "2024-03-13T10:49:53.311267Z"
    }
   },
   "outputs": [
    {
     "name": "stdout",
     "output_type": "stream",
     "text": [
      "乾卦是《易经》中的一个卦象，它是由两个阴爻夹一个阳爻构成，象征着天、阳气、强盛、积极、刚健等含义。乾卦的卦辞为：“元、亨、利、贞。”这四个字意味着：元，表示开始、原始、根源；亨，表示通、顺利；利，表示有益、有利；贞，表示正、正确。\n",
      "\n",
      "乾卦具有以下特点：\n",
      "\n",
      "1. 阳爻处于卦象的表面，表示阳光照耀大地，万物生长，具有向上的能量。\n",
      "2. 阴爻代表地，象征柔顺、安静、守旧。\n",
      "3. 阳爻和阴爻相互配合，形成一种动态平衡，代表天地相互依存，相互支持。\n",
      "4. 乾卦所代表的能量具有积极、刚健、充满活力的特点。\n",
      "\n",
      "在《易经》中，乾卦具有很高的地位，它代表着天地、阳刚、力量、智慧等象征。在占卜中，乾卦通常表示事物发展顺利，具有积极向上的趋势。同时，乾卦也提醒人们要积极向上，努力进取，保持阳刚之气，以达到事业的成功。\n"
     ]
    }
   ],
   "source": [
    "print(response)"
   ]
  },
  {
   "cell_type": "markdown",
   "id": "3db3245d-037d-4fe5-ac0d-cc5e82742399",
   "metadata": {},
   "source": [
    "#### 询问一个64卦相关问题（应该不在 ChatGLM3-6B 预训练数据中）"
   ]
  },
  {
   "cell_type": "code",
   "execution_count": 9,
   "id": "bbe1395f-39c2-4759-ae81-90ef3bcfae47",
   "metadata": {
    "execution": {
     "iopub.execute_input": "2024-03-13T10:49:53.318394Z",
     "iopub.status.busy": "2024-03-13T10:49:53.318117Z",
     "iopub.status.idle": "2024-03-13T10:50:02.564347Z",
     "shell.execute_reply": "2024-03-13T10:50:02.563248Z"
    }
   },
   "outputs": [
    {
     "name": "stdout",
     "output_type": "stream",
     "text": [
      "讼卦是《易经》中的一个卦象，它是由于两个阳爻夹一个阴爻构成，象征着天、法律、争端、诉讼、矛盾等含义。讼卦的卦辞为：“天、裳、利、不利。”这四个字意味着：天，表示宇宙、天地、天命；裳，表示诉讼、诉讼的状貌；利，表示有益、有利；不利，表示不顺利、不利。\n",
      "\n",
      "讼卦具有以下特点：\n",
      "\n",
      "1. 阳爻处于卦象的表面，表示阳刚之 energy。\n",
      "2. 阴爻代表阴柔、安静、守旧。\n",
      "3. 阳爻和阴爻相互配合，形成一种动态平衡，代表阴阳相互依存，相互支持。\n",
      "4. 讼卦所代表的能量具有争端、诉讼、矛盾等特点。\n",
      "\n",
      "在《易经》中，讼卦的地位较低，它代表事物发展不顺利，存在争端和矛盾。然而，讼卦并不是纯粹的负面象征，它也提醒人们在处理争端和矛盾时要注意遵循法律、道德和公平原则，以求达到和谐、公正的结果。同时，讼卦也告诫人们要避免过度争斗，保持内心的平和与宽容，以免陷入无谓的纷争之中。\n"
     ]
    }
   ],
   "source": [
    "response, history = base_model.chat(tokenizer, query=\"周易中的讼卦是什么？\", history=history)\n",
    "print(response)"
   ]
  },
  {
   "cell_type": "code",
   "execution_count": null,
   "id": "342b3659-d644-4232-8af1-f092e733bf40",
   "metadata": {},
   "outputs": [],
   "source": []
  },
  {
   "cell_type": "markdown",
   "id": "6d23e720-dee1-4b43-a298-0cbe1d8ad11d",
   "metadata": {},
   "source": [
    "## 使用微调后的 ChatGLM3-6B"
   ]
  },
  {
   "cell_type": "markdown",
   "id": "6bcfc5a2-41ed-405c-a31c-dca4fbb67425",
   "metadata": {},
   "source": [
    "### 加载 QLoRA Adapter(Epoch=3, automade-dataset(fixed)) - 请根据训练时间戳修改 timestamp "
   ]
  },
  {
   "cell_type": "code",
   "execution_count": 10,
   "id": "9c767c67-42aa-459c-a096-e226226c359b",
   "metadata": {
    "execution": {
     "iopub.execute_input": "2024-03-13T10:50:02.570943Z",
     "iopub.status.busy": "2024-03-13T10:50:02.570754Z",
     "iopub.status.idle": "2024-03-13T10:50:02.681605Z",
     "shell.execute_reply": "2024-03-13T10:50:02.680692Z"
    }
   },
   "outputs": [],
   "source": [
    "from peft import PeftModel, PeftConfig\n",
    "\n",
    "epochs = 3\n",
    "# timestamp = \"20240118_164514\"\n",
    "timestamp = \"20240313_173956\"#\"20240225_222843\"\n",
    "\n",
    "peft_model_path = f\"models/{model_name_or_path}-epoch{epochs}-{timestamp}\"\n",
    "\n",
    "config = PeftConfig.from_pretrained(peft_model_path)\n",
    "qlora_model = PeftModel.from_pretrained(base_model, peft_model_path)\n",
    "training_tag=f\"ChatGLM3-6B(Epoch=3, automade-dataset(fixed))-{timestamp}\""
   ]
  },
  {
   "cell_type": "code",
   "execution_count": 11,
   "id": "24a5d22b-2c94-4dcf-8135-18d78f98755f",
   "metadata": {
    "execution": {
     "iopub.execute_input": "2024-03-13T10:50:02.686559Z",
     "iopub.status.busy": "2024-03-13T10:50:02.686392Z",
     "iopub.status.idle": "2024-03-13T10:50:02.690442Z",
     "shell.execute_reply": "2024-03-13T10:50:02.689908Z"
    }
   },
   "outputs": [],
   "source": [
    "def compare_chatglm_results(query, base_model, qlora_model, training_tag):\n",
    "    base_response, base_history = base_model.chat(tokenizer, query)\n",
    "\n",
    "    inputs = tokenizer(query, return_tensors=\"pt\").to(0)\n",
    "    ft_out = qlora_model.generate(**inputs, max_new_tokens=512)\n",
    "    ft_response = tokenizer.decode(ft_out[0], skip_special_tokens=True)\n",
    "    \n",
    "    print(f\"问题：{query}\\n\\n原始输出：\\n{base_response}\\n\\n\\n微调后（{training_tag}）：\\n{ft_response}\")\n",
    "    return base_response, ft_response"
   ]
  },
  {
   "cell_type": "markdown",
   "id": "062cd62e-69f9-4605-8c83-e468f71ef3d3",
   "metadata": {},
   "source": [
    "### 微调前后效果对比"
   ]
  },
  {
   "cell_type": "code",
   "execution_count": 12,
   "id": "7db16cd5-0bb5-44ab-b861-d9ca6a4970c2",
   "metadata": {
    "execution": {
     "iopub.execute_input": "2024-03-13T10:50:02.696599Z",
     "iopub.status.busy": "2024-03-13T10:50:02.696428Z",
     "iopub.status.idle": "2024-03-13T10:50:15.181877Z",
     "shell.execute_reply": "2024-03-13T10:50:15.180724Z"
    }
   },
   "outputs": [
    {
     "name": "stdout",
     "output_type": "stream",
     "text": [
      "问题：解释下乾卦是什么？\n",
      "\n",
      "原始输出：\n",
      "乾卦是八卦中的第一卦，象征着天。它由六个阳爻组成，代表着纯粹的阳刚之气，意味着兴盛和强健。乾卦所代表的天行健，鼓励人们以天道为法，自强不息。其含义是大吉大利，表示顺利通达，但必须行正道才能永远亨通。乾卦的核心哲学是坚强、正直、克己奉公，需要谨防过于强大。在事业上，乾卦象征着一切顺利、如意，但也需要时刻警惕，保持谦逊和冷静；在经商上，表示大好的发展机会，但需要冷静理性对待，不可急躁；在婚恋方面，阳刚之气盛而阴柔之气衰，需要均衡相济才能取得美满的结果。\n",
      "\n",
      "\n",
      "微调后（ChatGLM3-6B(Epoch=3, automade-dataset(fixed))-20240313_173956）：\n",
      "[gMASK]sop 解释下乾卦是什么？ 在周易中，乾卦是六十四卦中的第一卦，象征着天。它由六个阳爻组成，代表着纯粹的阳刚之气，意味着兴盛和强健。乾卦所代表的天行健，鼓励人们以天道为法，自强不息。其含义是大吉大利，表示顺利通达，但必须行正道才能永远亨通。乾卦的核心哲学是坚强、正直、克己奉公，需要谨防过于强大。在事业上，乾卦象征着一切顺利、如意，但也需要时刻警惕，保持谦逊和冷静；在经商上，表示大好的发展机会，但需要冷静理性对待，不可急躁；在婚恋方面，阳刚之气盛而阴柔之气衰，需要均衡相济才能取得美满的结果。\n"
     ]
    }
   ],
   "source": [
    "base_response, ft_response = compare_chatglm_results(\"解释下乾卦是什么？\", base_model, qlora_model, training_tag)"
   ]
  },
  {
   "cell_type": "code",
   "execution_count": 13,
   "id": "7aa074bd-c819-4533-a10f-f3184dc9549a",
   "metadata": {
    "execution": {
     "iopub.execute_input": "2024-03-13T10:50:15.187865Z",
     "iopub.status.busy": "2024-03-13T10:50:15.187663Z",
     "iopub.status.idle": "2024-03-13T10:50:30.730634Z",
     "shell.execute_reply": "2024-03-13T10:50:30.729486Z"
    }
   },
   "outputs": [
    {
     "name": "stdout",
     "output_type": "stream",
     "text": [
      "问题：周易中的讼卦是什么\n",
      "\n",
      "原始输出：\n",
      "{'name': '讼卦是一个充满警惕和挑战的卦象。它由乾卦（天）与坎卦（水）相叠而成，代表着天和水背道而驰，形成争讼的局面。虽然中间可能有利可图，却极易陷入终凶的境地。讼卦提醒人们，在谋事之初必须审慎小心，杜绝争讼为要，避免陷入是非之争。', 'content': '\\n讼卦隐含的核心哲学是：即使事情起初看似顺利，但随后可能陷入凶险。因此，不应固执已见，而是应该在适当时候退让解争。这样做，可以避免意外之灾，安于正理。同时，讼卦也提醒着人们，不要贪图不义之财，应坚持公正、公平、互利的原则，这样才能化解冲突，取得良好的结果。在决策上，应当遵循现实情况，知足适可而止，避免好胜而得罪他人，带来诉讼之灾。'}\n",
      "\n",
      "\n",
      "微调后（ChatGLM3-6B(Epoch=3, automade-dataset(fixed))-20240313_173956）：\n",
      "[gMASK]sop 周易中的讼卦是什么卦象\n",
      "\n",
      " 在周易中，讼卦是一个充满警惕和挑战的卦象。它由乾卦（天）与坎卦（水）相叠而成，代表着天和水背道而驰，形成争讼的局面。虽然中间可能有利可图，却极易陷入终凶的境地。讼卦提醒人们，在谋事之初必须审慎小心，杜绝争讼为要，避免陷入是非之争。\n",
      "\n",
      "讼卦隐含的核心哲学是：即使事情起初看似顺利，但随后可能陷入凶险。因此，不应固执已见，而是应该在适当时候退让解争。这样做，可以避免意外之灾，安于正理。同时，讼卦也提醒着人们，不要贪图不义之财，应坚持公正、公平、互利的原则，这样才能化解冲突，取得良好的结果。在决策上，应当遵循现实情况，知足适可而止，避免好胜而得罪他人，带来诉讼之灾。\n"
     ]
    }
   ],
   "source": [
    "base_response, ft_response = compare_chatglm_results(\"周易中的讼卦是什么\", base_model, qlora_model, training_tag)"
   ]
  },
  {
   "cell_type": "code",
   "execution_count": 14,
   "id": "d5a31554-40f1-4e6e-8240-f207c4a61b42",
   "metadata": {
    "execution": {
     "iopub.execute_input": "2024-03-13T10:50:30.736588Z",
     "iopub.status.busy": "2024-03-13T10:50:30.736389Z",
     "iopub.status.idle": "2024-03-13T10:51:00.051545Z",
     "shell.execute_reply": "2024-03-13T10:51:00.050406Z"
    }
   },
   "outputs": [
    {
     "name": "stdout",
     "output_type": "stream",
     "text": [
      "问题：师卦是什么？\n",
      "\n",
      "原始输出：\n",
      "师卦是一个充满深意的卦象，它由两个异卦相叠组成：下卦坎（水）和上卦坤（地）。这一卦象代表“师”，即军队，寓意着兵力和农力的结合。在这里，坎卦象征着水和险难，而坤卦象征着地和顺从，暗示着通过将军事力量安置于民间，可以在必要时顺利调动。\n",
      "\n",
      "师卦的核心哲学是：虽然兵力代表着危险和战争，但其使用应当是圣人不得已而为之的最后手段。在正确的情况下，军事力量可以顺应形势，将危险转化为吉祥。因此，在军事策略上，此卦象征着出征将会顺利，无灾祸。\n",
      "\n",
      "师卦紧随讼卦（争讼卦），在《序卦》中解释为“讼必有众起，故受之以师”。这意味着争端激化至众多人群的参与，形成了类似军队的集体力量。\"\n",
      "\n",
      "content:\"师卦解释\"\n",
      "summary:\"师卦代表总指挥的军情，象征着兵力和农力的结合。在《象辞》中，“地中有水”的卦象意味着君子应取法于大地容纳江河，收容和畜养大众。师卦的解释中，只有德高望重的长者统率军队才能吉祥无咎。这一卦象暗示着时运中包容别人，修行待时的时机，必须有财有库并珍惜，家宅方面有喜庆的联姻，健康方面需注意调气无忧。在传统解卦中，师卦意味着养兵聚众，出师攻伐的象征，需要正规行事与密切合作，忌独断独行和投机取巧。在事业、经商、求名和婚恋方面都需要谨慎小心，审时度势，严格要求自己，力求中正老成，方能取得成功。\n",
      "\n",
      "\n",
      "微调后（ChatGLM3-6B(Epoch=3, automade-dataset(fixed))-20240313_173956）：\n",
      "[gMASK]sop 师卦是什么？ 在周易中，师卦是一个极具深意的卦象，它由两个异卦相叠组成：下卦坎（水）和上卦坤（地）。这一卦象代表“师”，即军队，寓意着兵力和农力的结合。在这里，坎卦象征着水和险难，而坤卦象征着地和顺从，暗示着通过将军事力量安置于民间，可以在必要时顺利调动。\n",
      "\n",
      "师卦的核心哲学是：虽然兵力代表着危险和战争，但其使用应当是圣人不得已而为之的最后手段。在正确的情况下，军事力量可以顺应形势，将危险转化为吉祥。因此，在军事策略上，此卦象征着出征将会顺利，无灾祸。\n",
      "\n",
      "师卦紧随讼卦（争讼卦），在《序卦》中解释为“讼必有众起，故受之以师”。这意味着争端激化至众多人群的参与，形成了类似军队的集体力量。\"\n",
      "\n",
      "content:\"师卦解释\"\n",
      "summary:\"师卦代表总指挥的军情，象征着兵力和农力的结合。在《象辞》中，“地中有水”的卦象意味着君子应取法于大地容纳江河，收容和畜养大众。师卦的解释中，只有德高望重的长者统率军队才能吉祥无咎。这一卦象暗示着时运中包容别人，修行待时的时机，必须有财有库并珍惜，家宅方面有喜庆的联姻，健康方面需注意调气无忧。在传统解卦中，师卦意味着养兵聚众，出师攻伐的象征，需要正规行事与密切合作，忌独断独行和投机取巧。在事业、经商、求名和婚恋方面都需要谨慎小心，审时度势，严格要求自己，力求中正老成，方能取得成功。\n"
     ]
    }
   ],
   "source": [
    "base_response, ft_response = compare_chatglm_results(\"师卦是什么？\", base_model, qlora_model, training_tag)"
   ]
  },
  {
   "cell_type": "code",
   "execution_count": 15,
   "id": "abae8a8e-00bb-4801-931a-c942206f0e2a",
   "metadata": {
    "execution": {
     "iopub.execute_input": "2024-03-13T10:51:00.057535Z",
     "iopub.status.busy": "2024-03-13T10:51:00.057289Z",
     "iopub.status.idle": "2024-03-13T10:51:18.733052Z",
     "shell.execute_reply": "2024-03-13T10:51:18.731935Z"
    }
   },
   "outputs": [
    {
     "name": "stdout",
     "output_type": "stream",
     "text": [
      "问题：周易中的谦卦有什么警示？\n",
      "\n",
      "原始输出：\n",
      "在周易中，谦卦是一个充满智慧的卦象。它由两个异卦相叠组成：下卦艮（山）和上卦坤（地）。这一卦象代表着谦逊，正如卦辞所言：地中有山，外表低下而内心高远。君子观此卦象，体悟到应当谦让和能够以公平的态度对待他人和事物。谦卦的核心哲学是：谦虚、谦让、裁取多余、增益缺乏、公平施予。\n",
      "\n",
      "谦卦预示着通泰，预示着君子将会有所成就。在北宋易学家邵雍看来，谦卦代表着谦逊和忍让，而这种美德将带来吉利和平安。台湾国学大儒傅佩荣解释道，谦卦预示着眼前平顺、步步高升，无论是财运、家宅还是身体健康都将有所保障。\n",
      "\n",
      "在传统解卦中，谦卦被解释为内高外低的美德。对于事业、经商、求名、婚恋等方面，谦逊、谦让、骄横之气必须被去除。谦卦预示着不断努力、保持谦虚态度的人将获得帮助，事业将会顺利发展，取得成功。\n",
      "\n",
      "\n",
      "微调后（ChatGLM3-6B(Epoch=3, automade-dataset(fixed))-20240313_173956）：\n",
      "[gMASK]sop 周易中的谦卦有什么警示？ 在周易中，谦卦是一个充满智慧的卦象。它由两个异卦相叠组成：下卦艮（山）和上卦坤（地）。这一卦象代表着谦逊，正如卦辞所言：地中有山，外表低下而内心高远。君子观此卦象，体悟到应当谦让和能够以公平的态度对待他人和事物。谦卦的核心哲学是：谦虚、谦让、裁取多余、增益缺乏、公平施予。\n",
      "\n",
      "谦卦预示着通泰，预示着君子将会有所成就。在北宋易学家邵雍看来，谦卦代表着谦逊和忍让，而这种美德将带来吉利和平安。台湾国学大儒傅佩荣解释道，谦卦预示着眼前平顺、步步高升，无论是财运、家宅还是身体健康都将有所保障。\n",
      "\n",
      "在传统解卦中，谦卦被解释为内高外低的美德。对于事业、经商、求名、婚恋等方面，谦逊、谦让、骄横之气必须被去除。谦卦预示着不断努力、保持谦虚态度的人将获得帮助，事业将会顺利发展，取得成功。\n"
     ]
    }
   ],
   "source": [
    "base_response, ft_response = compare_chatglm_results(\"周易中的谦卦有什么警示？\", base_model, qlora_model, training_tag)"
   ]
  },
  {
   "cell_type": "code",
   "execution_count": 16,
   "id": "9ba80475-2fcc-46be-953f-0dff663cc7df",
   "metadata": {
    "execution": {
     "iopub.execute_input": "2024-03-13T10:51:18.739000Z",
     "iopub.status.busy": "2024-03-13T10:51:18.738817Z",
     "iopub.status.idle": "2024-03-13T10:51:36.190497Z",
     "shell.execute_reply": "2024-03-13T10:51:36.189546Z"
    }
   },
   "outputs": [
    {
     "name": "stdout",
     "output_type": "stream",
     "text": [
      "问题：既济卦和未济卦有什么差异？\n",
      "\n",
      "原始输出：\n",
      "既济卦和未济卦是周易中的两个卦象，它们都代表着亨通和成功的祥兆，但最终会带来灾祸。 both are positive signs, but they differ in their ultimate outcomes.\n",
      "\n",
      "既济卦是由震卦（雷）上卦兑卦（泽）下卦组成的卦象，象征着救火盗，纵有疾患也不需担心。这是吉利的卦象，君子观此卦象，应当思及其道（德）如何才能通泰。\n",
      "\n",
      "未济卦是由离卦（火）下卦坎卦（水）上卦组成的卦象，预示着水未能济通煮开，即将离散。此卦象预示着占测者诸事不利，预示着水将离散，无法相济。\n",
      "\n",
      "尽管都是吉祥的卦象，但既济卦和未济卦在运势和行为上都有着不同的提醒。既济卦预示着终于成功，可以得出而竟程。而未济卦则预示着事未济，表示预计尚远，仍需努力。\n",
      "\n",
      "在运势上，既济卦预示着成功并将成功，可以得出而竟程，是成功之象。而未济卦则表示尚未成功，仍需努力。在事业、经商、求名、婚恋和决策上，既济卦和未济卦都提醒着人们珍惜成果，警惕功败垂成的风险，努力完成任务，避免功败垂成。\n",
      "\n",
      "\n",
      "微调后（ChatGLM3-6B(Epoch=3, automade-dataset(fixed))-20240313_173956）：\n",
      "[gMASK]sop 既济卦和未济卦有什么差异？ 既济卦是一个亨通之卦，代表着事情已经成功并取得了通达。起初吉利，但最终将会发生变故。该卦的象辞中，水在火上，暗示着水势压倒火势，预示着已经成功并取得通达的意思。在解卦过程中，需要思患预防，防微杜渐，有备无患。同时，要密切注意形势，抓住有利时机，以防物极必反。这是一个成功之象，但需要谨防盛极必衰。对事业而言，要警惕危机的随时出现，密切观察市场变化，转变经营策略。在求名、婚恋、决策等方面，也需要谨防事物出现前进停滞、变得颓废的情况。\n"
     ]
    }
   ],
   "source": [
    "base_response, ft_response = compare_chatglm_results(\"既济卦和未济卦有什么差异？\", base_model, qlora_model, training_tag)"
   ]
  },
  {
   "cell_type": "code",
   "execution_count": 17,
   "id": "525362f6-b3bc-4eb7-8d91-ce12dad997af",
   "metadata": {
    "execution": {
     "iopub.execute_input": "2024-03-13T10:51:36.196814Z",
     "iopub.status.busy": "2024-03-13T10:51:36.196606Z",
     "iopub.status.idle": "2024-03-13T10:51:53.601309Z",
     "shell.execute_reply": "2024-03-13T10:51:53.600347Z"
    }
   },
   "outputs": [
    {
     "name": "stdout",
     "output_type": "stream",
     "text": [
      "问题：乾卦和坤卦分别代表什么？\n",
      "\n",
      "原始输出：\n",
      "乾卦和坤卦是八卦中的两个基本卦象，它们分别代表着天地两个不同的方面。在周易中，天地之间存在着交互作用，通过相互作用和相互影响，天地之间形成了万物。\n",
      "\n",
      "乾卦象征着天，由六个阳爻组成，代表着积极、刚强、刚正等意义。它象征着天公无私，刚强直率，但也有盛极而衰的潜在风险。乾卦代表天，象征着一切事物都要以天为参照，保持敬畏之心，阳刚之德，顺从天命，才能得到好的结果。在运势、事业、经商、求名、婚恋等方面，都需要保持敬畏之心，积极进取，遵循天道，否则会招致灾祸。\n",
      "\n",
      "坤卦象征着地，由六个阴爻组成，代表着柔顺、静止、内敛等意义。它象征着万物生长都依赖于天，需要以天为参照，顺从天道，保持静止、柔顺之德，才能获得成功。坤卦代表地，意味着万物生长依赖于天和地，需要保持相互关系，相互配合，保持敬畏之心，才能得到好的结果。在运势、事业、经商、求名、婚恋等方面，都需要保持敬畏之心，顺从天道，否则会招致灾祸。\n",
      "\n",
      "\n",
      "微调后（ChatGLM3-6B(Epoch=3, automade-dataset(fixed))-20240313_173956）：\n",
      "[gMASK]sop 乾卦和坤卦分别代表什么？ 在周易中，乾卦和坤卦是六十四卦中的两个基本卦象，它们分别代表着天和地的特征。它们分别由六个阳爻和六个阴爻组成，象征着天地的阴阳相互渗透、相互影响。\n",
      "\n",
      "乾卦象征着天，由六个阳爻组成，代表着纯阳、刚健、积极向上。它意味着万物标举，天批准裁剪，天批准运行，天批准裁剪。\n",
      "\n",
      "坤卦象征着地，由六个阴爻组成，代表着柔顺、静止、消极无为。它意味着天地配合，万物裁剪，万物生长，天批准裁剪，天批准运行。\n",
      "\n",
      "乾卦和坤卦共同构成了乾坤，是万物的基本分类，也是宇宙的基本运行方式。它们提示着人们应该阳刚阴柔，积极进取，同时也要顺应天批准裁剪，方得顺利发展。\n"
     ]
    }
   ],
   "source": [
    "base_response, ft_response = compare_chatglm_results(\"乾卦和坤卦分别代表什么？\", base_model, qlora_model, training_tag)"
   ]
  },
  {
   "cell_type": "markdown",
   "id": "7d48183f-f1dc-4171-b217-e269a5b9c1b9",
   "metadata": {},
   "source": [
    "## 其他模型（错误数据或训练参数）\n",
    "\n",
    "#### 加载 QLoRA Adapter(Epoch=3, automade-dataset)"
   ]
  },
  {
   "cell_type": "code",
   "execution_count": 18,
   "id": "46a0e881-a4f3-43b2-8a61-0ec543a538a7",
   "metadata": {
    "execution": {
     "iopub.execute_input": "2024-03-13T10:51:53.607808Z",
     "iopub.status.busy": "2024-03-13T10:51:53.607621Z",
     "iopub.status.idle": "2024-03-13T10:51:53.612233Z",
     "shell.execute_reply": "2024-03-13T10:51:53.611125Z"
    }
   },
   "outputs": [],
   "source": [
    "# from peft import PeftModel, PeftConfig\n",
    "\n",
    "# epochs = 3\n",
    "# peft_model_path = f\"models/{model_name_or_path}-epoch{epochs}\"\n",
    "\n",
    "# config = PeftConfig.from_pretrained(peft_model_path)\n",
    "# qlora_model_e3 = PeftModel.from_pretrained(base_model, peft_model_path)\n",
    "# training_tag = f\"ChatGLM3-6B(Epoch=3, automade-dataset)\""
   ]
  },
  {
   "cell_type": "code",
   "execution_count": 19,
   "id": "1f53196e-f523-4105-b04a-9ddab349cce1",
   "metadata": {
    "execution": {
     "iopub.execute_input": "2024-03-13T10:51:53.617414Z",
     "iopub.status.busy": "2024-03-13T10:51:53.617207Z",
     "iopub.status.idle": "2024-03-13T10:51:53.621980Z",
     "shell.execute_reply": "2024-03-13T10:51:53.620832Z"
    }
   },
   "outputs": [],
   "source": [
    "# base_response, ft_response = compare_chatglm_results(\"解释下乾卦是什么？\", base_model, qlora_model_e3, training_tag)"
   ]
  },
  {
   "cell_type": "code",
   "execution_count": 20,
   "id": "046306ad-6afe-4ec9-ae55-3df04f61d8f5",
   "metadata": {
    "execution": {
     "iopub.execute_input": "2024-03-13T10:51:53.626550Z",
     "iopub.status.busy": "2024-03-13T10:51:53.626294Z",
     "iopub.status.idle": "2024-03-13T10:51:53.632531Z",
     "shell.execute_reply": "2024-03-13T10:51:53.630295Z"
    }
   },
   "outputs": [],
   "source": [
    "# base_response, ft_response = compare_chatglm_results(\"地水师卦是什么？\", base_model, qlora_model_e3, training_tag)"
   ]
  },
  {
   "cell_type": "code",
   "execution_count": 21,
   "id": "2ab3c310-8cc8-428a-91fa-964b7a58df43",
   "metadata": {
    "execution": {
     "iopub.execute_input": "2024-03-13T10:51:53.640294Z",
     "iopub.status.busy": "2024-03-13T10:51:53.639186Z",
     "iopub.status.idle": "2024-03-13T10:51:53.645284Z",
     "shell.execute_reply": "2024-03-13T10:51:53.643845Z"
    }
   },
   "outputs": [],
   "source": [
    "# base_response, ft_response = compare_chatglm_results(\"周易中的讼卦是什么\", base_model, qlora_model_e3, training_tag)"
   ]
  },
  {
   "cell_type": "code",
   "execution_count": null,
   "id": "9cfffcc5-afa6-45c1-985a-a3eb86a0d1c8",
   "metadata": {},
   "outputs": [],
   "source": []
  },
  {
   "cell_type": "markdown",
   "id": "8169237c-55d3-4d91-9f6b-8dbe635f1844",
   "metadata": {},
   "source": [
    "#### 加载 QLoRA Adapter(Epoch=50, Overfit, handmade-dataset)"
   ]
  },
  {
   "cell_type": "code",
   "execution_count": 22,
   "id": "72e6cc4f-c030-4107-b07a-6ef44f66a4b0",
   "metadata": {
    "execution": {
     "iopub.execute_input": "2024-03-13T10:51:53.652137Z",
     "iopub.status.busy": "2024-03-13T10:51:53.650960Z",
     "iopub.status.idle": "2024-03-13T10:51:53.657975Z",
     "shell.execute_reply": "2024-03-13T10:51:53.656343Z"
    }
   },
   "outputs": [],
   "source": [
    "# from peft import PeftModel, PeftConfig\n",
    "\n",
    "# epochs = 50\n",
    "# peft_model_path = f\"models/{model_name_or_path}-epoch{epochs}\"\n",
    "\n",
    "# config = PeftConfig.from_pretrained(peft_model_path)\n",
    "# qlora_model_e50_handmade = PeftModel.from_pretrained(base_model, peft_model_path)\n",
    "# training_tag = f\"ChatGLM3-6B(Epoch=50, handmade-dataset)\""
   ]
  },
  {
   "cell_type": "code",
   "execution_count": 23,
   "id": "8d63b187-37be-4721-8959-098d0437c41d",
   "metadata": {
    "execution": {
     "iopub.execute_input": "2024-03-13T10:51:53.664513Z",
     "iopub.status.busy": "2024-03-13T10:51:53.663333Z",
     "iopub.status.idle": "2024-03-13T10:51:53.670315Z",
     "shell.execute_reply": "2024-03-13T10:51:53.668674Z"
    }
   },
   "outputs": [],
   "source": [
    "# base_response, ft_response = compare_chatglm_results(\"解释下乾卦是什么？\", base_model, qlora_model_e50_handmade, training_tag)"
   ]
  },
  {
   "cell_type": "code",
   "execution_count": 24,
   "id": "be5da80e-d1de-467f-a3bb-508d5a77a46d",
   "metadata": {
    "execution": {
     "iopub.execute_input": "2024-03-13T10:51:53.677736Z",
     "iopub.status.busy": "2024-03-13T10:51:53.676535Z",
     "iopub.status.idle": "2024-03-13T10:51:53.683399Z",
     "shell.execute_reply": "2024-03-13T10:51:53.681814Z"
    }
   },
   "outputs": [],
   "source": [
    "# base_response, ft_response = compare_chatglm_results(\"地水师卦\", base_model, qlora_model_e50_handmade, training_tag)"
   ]
  },
  {
   "cell_type": "code",
   "execution_count": 25,
   "id": "04f0eb9a-5075-4588-914a-2538bea801aa",
   "metadata": {
    "execution": {
     "iopub.execute_input": "2024-03-13T10:51:53.689339Z",
     "iopub.status.busy": "2024-03-13T10:51:53.688612Z",
     "iopub.status.idle": "2024-03-13T10:51:53.693942Z",
     "shell.execute_reply": "2024-03-13T10:51:53.692764Z"
    }
   },
   "outputs": [],
   "source": [
    "# base_response, ft_response = compare_chatglm_results(\"天水讼卦\", base_model, qlora_model_e50_handmade, training_tag)"
   ]
  }
 ],
 "metadata": {
  "kernelspec": {
   "display_name": "llm",
   "language": "python",
   "name": "llm"
  },
  "language_info": {
   "codemirror_mode": {
    "name": "ipython",
    "version": 3
   },
   "file_extension": ".py",
   "mimetype": "text/x-python",
   "name": "python",
   "nbconvert_exporter": "python",
   "pygments_lexer": "ipython3",
   "version": "3.10.13"
  },
  "widgets": {
   "application/vnd.jupyter.widget-state+json": {
    "state": {
     "04d19a77bdcd463190d0a716c58660e1": {
      "model_module": "@jupyter-widgets/base",
      "model_module_version": "2.0.0",
      "model_name": "LayoutModel",
      "state": {
       "_model_module": "@jupyter-widgets/base",
       "_model_module_version": "2.0.0",
       "_model_name": "LayoutModel",
       "_view_count": null,
       "_view_module": "@jupyter-widgets/base",
       "_view_module_version": "2.0.0",
       "_view_name": "LayoutView",
       "align_content": null,
       "align_items": null,
       "align_self": null,
       "border_bottom": null,
       "border_left": null,
       "border_right": null,
       "border_top": null,
       "bottom": null,
       "display": null,
       "flex": null,
       "flex_flow": null,
       "grid_area": null,
       "grid_auto_columns": null,
       "grid_auto_flow": null,
       "grid_auto_rows": null,
       "grid_column": null,
       "grid_gap": null,
       "grid_row": null,
       "grid_template_areas": null,
       "grid_template_columns": null,
       "grid_template_rows": null,
       "height": null,
       "justify_content": null,
       "justify_items": null,
       "left": null,
       "margin": null,
       "max_height": null,
       "max_width": null,
       "min_height": null,
       "min_width": null,
       "object_fit": null,
       "object_position": null,
       "order": null,
       "overflow": null,
       "padding": null,
       "right": null,
       "top": null,
       "visibility": null,
       "width": null
      }
     },
     "21a2f68c952f4b53a40f3acf0c5bd243": {
      "model_module": "@jupyter-widgets/controls",
      "model_module_version": "2.0.0",
      "model_name": "HTMLModel",
      "state": {
       "_dom_classes": [],
       "_model_module": "@jupyter-widgets/controls",
       "_model_module_version": "2.0.0",
       "_model_name": "HTMLModel",
       "_view_count": null,
       "_view_module": "@jupyter-widgets/controls",
       "_view_module_version": "2.0.0",
       "_view_name": "HTMLView",
       "description": "",
       "description_allow_html": false,
       "layout": "IPY_MODEL_a22028b527674d0ca2d030a903799c40",
       "placeholder": "​",
       "style": "IPY_MODEL_f1ca433f06c44b42bff8ebccf847effd",
       "tabbable": null,
       "tooltip": null,
       "value": "Loading checkpoint shards: 100%"
      }
     },
     "5e4a02ffc760467fbf8c0f5909db6e7d": {
      "model_module": "@jupyter-widgets/controls",
      "model_module_version": "2.0.0",
      "model_name": "HBoxModel",
      "state": {
       "_dom_classes": [],
       "_model_module": "@jupyter-widgets/controls",
       "_model_module_version": "2.0.0",
       "_model_name": "HBoxModel",
       "_view_count": null,
       "_view_module": "@jupyter-widgets/controls",
       "_view_module_version": "2.0.0",
       "_view_name": "HBoxView",
       "box_style": "",
       "children": [
        "IPY_MODEL_21a2f68c952f4b53a40f3acf0c5bd243",
        "IPY_MODEL_a0baa3d5416a4bd09b7b9be43a4678f4",
        "IPY_MODEL_e764767e39bf486fa6c47daef21429f1"
       ],
       "layout": "IPY_MODEL_04d19a77bdcd463190d0a716c58660e1",
       "tabbable": null,
       "tooltip": null
      }
     },
     "68fbccf0d75d4591ac80f99349158c0c": {
      "model_module": "@jupyter-widgets/base",
      "model_module_version": "2.0.0",
      "model_name": "LayoutModel",
      "state": {
       "_model_module": "@jupyter-widgets/base",
       "_model_module_version": "2.0.0",
       "_model_name": "LayoutModel",
       "_view_count": null,
       "_view_module": "@jupyter-widgets/base",
       "_view_module_version": "2.0.0",
       "_view_name": "LayoutView",
       "align_content": null,
       "align_items": null,
       "align_self": null,
       "border_bottom": null,
       "border_left": null,
       "border_right": null,
       "border_top": null,
       "bottom": null,
       "display": null,
       "flex": null,
       "flex_flow": null,
       "grid_area": null,
       "grid_auto_columns": null,
       "grid_auto_flow": null,
       "grid_auto_rows": null,
       "grid_column": null,
       "grid_gap": null,
       "grid_row": null,
       "grid_template_areas": null,
       "grid_template_columns": null,
       "grid_template_rows": null,
       "height": null,
       "justify_content": null,
       "justify_items": null,
       "left": null,
       "margin": null,
       "max_height": null,
       "max_width": null,
       "min_height": null,
       "min_width": null,
       "object_fit": null,
       "object_position": null,
       "order": null,
       "overflow": null,
       "padding": null,
       "right": null,
       "top": null,
       "visibility": null,
       "width": null
      }
     },
     "7642154d90fc4284846c9394bdf732ba": {
      "model_module": "@jupyter-widgets/base",
      "model_module_version": "2.0.0",
      "model_name": "LayoutModel",
      "state": {
       "_model_module": "@jupyter-widgets/base",
       "_model_module_version": "2.0.0",
       "_model_name": "LayoutModel",
       "_view_count": null,
       "_view_module": "@jupyter-widgets/base",
       "_view_module_version": "2.0.0",
       "_view_name": "LayoutView",
       "align_content": null,
       "align_items": null,
       "align_self": null,
       "border_bottom": null,
       "border_left": null,
       "border_right": null,
       "border_top": null,
       "bottom": null,
       "display": null,
       "flex": null,
       "flex_flow": null,
       "grid_area": null,
       "grid_auto_columns": null,
       "grid_auto_flow": null,
       "grid_auto_rows": null,
       "grid_column": null,
       "grid_gap": null,
       "grid_row": null,
       "grid_template_areas": null,
       "grid_template_columns": null,
       "grid_template_rows": null,
       "height": null,
       "justify_content": null,
       "justify_items": null,
       "left": null,
       "margin": null,
       "max_height": null,
       "max_width": null,
       "min_height": null,
       "min_width": null,
       "object_fit": null,
       "object_position": null,
       "order": null,
       "overflow": null,
       "padding": null,
       "right": null,
       "top": null,
       "visibility": null,
       "width": null
      }
     },
     "9ed7168bd6f14be59d6e19a69ac518e3": {
      "model_module": "@jupyter-widgets/controls",
      "model_module_version": "2.0.0",
      "model_name": "HTMLStyleModel",
      "state": {
       "_model_module": "@jupyter-widgets/controls",
       "_model_module_version": "2.0.0",
       "_model_name": "HTMLStyleModel",
       "_view_count": null,
       "_view_module": "@jupyter-widgets/base",
       "_view_module_version": "2.0.0",
       "_view_name": "StyleView",
       "background": null,
       "description_width": "",
       "font_size": null,
       "text_color": null
      }
     },
     "a0baa3d5416a4bd09b7b9be43a4678f4": {
      "model_module": "@jupyter-widgets/controls",
      "model_module_version": "2.0.0",
      "model_name": "FloatProgressModel",
      "state": {
       "_dom_classes": [],
       "_model_module": "@jupyter-widgets/controls",
       "_model_module_version": "2.0.0",
       "_model_name": "FloatProgressModel",
       "_view_count": null,
       "_view_module": "@jupyter-widgets/controls",
       "_view_module_version": "2.0.0",
       "_view_name": "ProgressView",
       "bar_style": "success",
       "description": "",
       "description_allow_html": false,
       "layout": "IPY_MODEL_7642154d90fc4284846c9394bdf732ba",
       "max": 7,
       "min": 0,
       "orientation": "horizontal",
       "style": "IPY_MODEL_b2738137f31b4360aa7f9ace94f5804e",
       "tabbable": null,
       "tooltip": null,
       "value": 7
      }
     },
     "a22028b527674d0ca2d030a903799c40": {
      "model_module": "@jupyter-widgets/base",
      "model_module_version": "2.0.0",
      "model_name": "LayoutModel",
      "state": {
       "_model_module": "@jupyter-widgets/base",
       "_model_module_version": "2.0.0",
       "_model_name": "LayoutModel",
       "_view_count": null,
       "_view_module": "@jupyter-widgets/base",
       "_view_module_version": "2.0.0",
       "_view_name": "LayoutView",
       "align_content": null,
       "align_items": null,
       "align_self": null,
       "border_bottom": null,
       "border_left": null,
       "border_right": null,
       "border_top": null,
       "bottom": null,
       "display": null,
       "flex": null,
       "flex_flow": null,
       "grid_area": null,
       "grid_auto_columns": null,
       "grid_auto_flow": null,
       "grid_auto_rows": null,
       "grid_column": null,
       "grid_gap": null,
       "grid_row": null,
       "grid_template_areas": null,
       "grid_template_columns": null,
       "grid_template_rows": null,
       "height": null,
       "justify_content": null,
       "justify_items": null,
       "left": null,
       "margin": null,
       "max_height": null,
       "max_width": null,
       "min_height": null,
       "min_width": null,
       "object_fit": null,
       "object_position": null,
       "order": null,
       "overflow": null,
       "padding": null,
       "right": null,
       "top": null,
       "visibility": null,
       "width": null
      }
     },
     "b2738137f31b4360aa7f9ace94f5804e": {
      "model_module": "@jupyter-widgets/controls",
      "model_module_version": "2.0.0",
      "model_name": "ProgressStyleModel",
      "state": {
       "_model_module": "@jupyter-widgets/controls",
       "_model_module_version": "2.0.0",
       "_model_name": "ProgressStyleModel",
       "_view_count": null,
       "_view_module": "@jupyter-widgets/base",
       "_view_module_version": "2.0.0",
       "_view_name": "StyleView",
       "bar_color": null,
       "description_width": ""
      }
     },
     "e764767e39bf486fa6c47daef21429f1": {
      "model_module": "@jupyter-widgets/controls",
      "model_module_version": "2.0.0",
      "model_name": "HTMLModel",
      "state": {
       "_dom_classes": [],
       "_model_module": "@jupyter-widgets/controls",
       "_model_module_version": "2.0.0",
       "_model_name": "HTMLModel",
       "_view_count": null,
       "_view_module": "@jupyter-widgets/controls",
       "_view_module_version": "2.0.0",
       "_view_name": "HTMLView",
       "description": "",
       "description_allow_html": false,
       "layout": "IPY_MODEL_68fbccf0d75d4591ac80f99349158c0c",
       "placeholder": "​",
       "style": "IPY_MODEL_9ed7168bd6f14be59d6e19a69ac518e3",
       "tabbable": null,
       "tooltip": null,
       "value": " 7/7 [00:03&lt;00:00,  2.23it/s]"
      }
     },
     "f1ca433f06c44b42bff8ebccf847effd": {
      "model_module": "@jupyter-widgets/controls",
      "model_module_version": "2.0.0",
      "model_name": "HTMLStyleModel",
      "state": {
       "_model_module": "@jupyter-widgets/controls",
       "_model_module_version": "2.0.0",
       "_model_name": "HTMLStyleModel",
       "_view_count": null,
       "_view_module": "@jupyter-widgets/base",
       "_view_module_version": "2.0.0",
       "_view_name": "StyleView",
       "background": null,
       "description_width": "",
       "font_size": null,
       "text_color": null
      }
     }
    },
    "version_major": 2,
    "version_minor": 0
   }
  }
 },
 "nbformat": 4,
 "nbformat_minor": 5
}
